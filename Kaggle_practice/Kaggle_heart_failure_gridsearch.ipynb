{
 "cells": [
  {
   "cell_type": "code",
   "execution_count": 20,
   "metadata": {},
   "outputs": [],
   "source": [
    "import pandas as pd\n",
    "import numpy as np\n",
    "from sklearn import preprocessing\n",
    "from sklearn.model_selection import train_test_split, GridSearchCV\n",
    "from sklearn.linear_model import LogisticRegression\n",
    "from sklearn.ensemble import RandomForestClassifier\n",
    "from sklearn.pipeline import Pipeline\n",
    "from sklearn.metrics import classification_report\n",
    "from sklearn.svm import SVC\n",
    "import matplotlib.pyplot as plt\n",
    "import seaborn as sns"
   ]
  },
  {
   "cell_type": "code",
   "execution_count": 2,
   "metadata": {},
   "outputs": [],
   "source": [
    "# dislpay full column widths and all columns\n",
    "pd.set_option('display.max_columns', None)\n",
    "pd.set_option('display.max_rows', None)\n",
    "pd.set_option('display.max_colwidth', None)"
   ]
  },
  {
   "cell_type": "code",
   "execution_count": 3,
   "metadata": {},
   "outputs": [],
   "source": [
    "proc_df = pd.read_csv('/media/veracrypt3/Cloud/Datasets/Kaggle/heart_processed.csv')"
   ]
  },
  {
   "cell_type": "code",
   "execution_count": 4,
   "metadata": {},
   "outputs": [
    {
     "data": {
      "text/html": [
       "<div>\n",
       "<style scoped>\n",
       "    .dataframe tbody tr th:only-of-type {\n",
       "        vertical-align: middle;\n",
       "    }\n",
       "\n",
       "    .dataframe tbody tr th {\n",
       "        vertical-align: top;\n",
       "    }\n",
       "\n",
       "    .dataframe thead th {\n",
       "        text-align: right;\n",
       "    }\n",
       "</style>\n",
       "<table border=\"1\" class=\"dataframe\">\n",
       "  <thead>\n",
       "    <tr style=\"text-align: right;\">\n",
       "      <th></th>\n",
       "      <th>Age</th>\n",
       "      <th>RestingBP</th>\n",
       "      <th>Cholesterol</th>\n",
       "      <th>FastingBS</th>\n",
       "      <th>MaxHR</th>\n",
       "      <th>Oldpeak</th>\n",
       "      <th>HeartDisease</th>\n",
       "      <th>F</th>\n",
       "      <th>M</th>\n",
       "      <th>ASY</th>\n",
       "      <th>ATA</th>\n",
       "      <th>NAP</th>\n",
       "      <th>TA</th>\n",
       "      <th>LVH</th>\n",
       "      <th>Normal</th>\n",
       "      <th>ST</th>\n",
       "      <th>N</th>\n",
       "      <th>Y</th>\n",
       "      <th>Down</th>\n",
       "      <th>Flat</th>\n",
       "      <th>Up</th>\n",
       "    </tr>\n",
       "  </thead>\n",
       "  <tbody>\n",
       "    <tr>\n",
       "      <th>0</th>\n",
       "      <td>40</td>\n",
       "      <td>140</td>\n",
       "      <td>289.0</td>\n",
       "      <td>0</td>\n",
       "      <td>172</td>\n",
       "      <td>0.0</td>\n",
       "      <td>0</td>\n",
       "      <td>0</td>\n",
       "      <td>1</td>\n",
       "      <td>0</td>\n",
       "      <td>1</td>\n",
       "      <td>0</td>\n",
       "      <td>0</td>\n",
       "      <td>0</td>\n",
       "      <td>1</td>\n",
       "      <td>0</td>\n",
       "      <td>1</td>\n",
       "      <td>0</td>\n",
       "      <td>0</td>\n",
       "      <td>0</td>\n",
       "      <td>1</td>\n",
       "    </tr>\n",
       "    <tr>\n",
       "      <th>1</th>\n",
       "      <td>49</td>\n",
       "      <td>160</td>\n",
       "      <td>180.0</td>\n",
       "      <td>0</td>\n",
       "      <td>156</td>\n",
       "      <td>1.0</td>\n",
       "      <td>1</td>\n",
       "      <td>1</td>\n",
       "      <td>0</td>\n",
       "      <td>0</td>\n",
       "      <td>0</td>\n",
       "      <td>1</td>\n",
       "      <td>0</td>\n",
       "      <td>0</td>\n",
       "      <td>1</td>\n",
       "      <td>0</td>\n",
       "      <td>1</td>\n",
       "      <td>0</td>\n",
       "      <td>0</td>\n",
       "      <td>1</td>\n",
       "      <td>0</td>\n",
       "    </tr>\n",
       "    <tr>\n",
       "      <th>2</th>\n",
       "      <td>37</td>\n",
       "      <td>130</td>\n",
       "      <td>283.0</td>\n",
       "      <td>0</td>\n",
       "      <td>98</td>\n",
       "      <td>0.0</td>\n",
       "      <td>0</td>\n",
       "      <td>0</td>\n",
       "      <td>1</td>\n",
       "      <td>0</td>\n",
       "      <td>1</td>\n",
       "      <td>0</td>\n",
       "      <td>0</td>\n",
       "      <td>0</td>\n",
       "      <td>0</td>\n",
       "      <td>1</td>\n",
       "      <td>1</td>\n",
       "      <td>0</td>\n",
       "      <td>0</td>\n",
       "      <td>0</td>\n",
       "      <td>1</td>\n",
       "    </tr>\n",
       "    <tr>\n",
       "      <th>3</th>\n",
       "      <td>48</td>\n",
       "      <td>138</td>\n",
       "      <td>214.0</td>\n",
       "      <td>0</td>\n",
       "      <td>108</td>\n",
       "      <td>1.5</td>\n",
       "      <td>1</td>\n",
       "      <td>1</td>\n",
       "      <td>0</td>\n",
       "      <td>1</td>\n",
       "      <td>0</td>\n",
       "      <td>0</td>\n",
       "      <td>0</td>\n",
       "      <td>0</td>\n",
       "      <td>1</td>\n",
       "      <td>0</td>\n",
       "      <td>0</td>\n",
       "      <td>1</td>\n",
       "      <td>0</td>\n",
       "      <td>1</td>\n",
       "      <td>0</td>\n",
       "    </tr>\n",
       "    <tr>\n",
       "      <th>4</th>\n",
       "      <td>54</td>\n",
       "      <td>150</td>\n",
       "      <td>195.0</td>\n",
       "      <td>0</td>\n",
       "      <td>122</td>\n",
       "      <td>0.0</td>\n",
       "      <td>0</td>\n",
       "      <td>0</td>\n",
       "      <td>1</td>\n",
       "      <td>0</td>\n",
       "      <td>0</td>\n",
       "      <td>1</td>\n",
       "      <td>0</td>\n",
       "      <td>0</td>\n",
       "      <td>1</td>\n",
       "      <td>0</td>\n",
       "      <td>1</td>\n",
       "      <td>0</td>\n",
       "      <td>0</td>\n",
       "      <td>0</td>\n",
       "      <td>1</td>\n",
       "    </tr>\n",
       "  </tbody>\n",
       "</table>\n",
       "</div>"
      ],
      "text/plain": [
       "   Age  RestingBP  Cholesterol  FastingBS  MaxHR  Oldpeak  HeartDisease  F  M  \\\n",
       "0   40        140        289.0          0    172      0.0             0  0  1   \n",
       "1   49        160        180.0          0    156      1.0             1  1  0   \n",
       "2   37        130        283.0          0     98      0.0             0  0  1   \n",
       "3   48        138        214.0          0    108      1.5             1  1  0   \n",
       "4   54        150        195.0          0    122      0.0             0  0  1   \n",
       "\n",
       "   ASY  ATA  NAP  TA  LVH  Normal  ST  N  Y  Down  Flat  Up  \n",
       "0    0    1    0   0    0       1   0  1  0     0     0   1  \n",
       "1    0    0    1   0    0       1   0  1  0     0     1   0  \n",
       "2    0    1    0   0    0       0   1  1  0     0     0   1  \n",
       "3    1    0    0   0    0       1   0  0  1     0     1   0  \n",
       "4    0    0    1   0    0       1   0  1  0     0     0   1  "
      ]
     },
     "execution_count": 4,
     "metadata": {},
     "output_type": "execute_result"
    }
   ],
   "source": [
    "proc_df.head()"
   ]
  },
  {
   "cell_type": "markdown",
   "metadata": {},
   "source": [
    "# Create X and Y datasets"
   ]
  },
  {
   "cell_type": "code",
   "execution_count": 5,
   "metadata": {},
   "outputs": [
    {
     "data": {
      "text/plain": [
       "array([[ 40. , 140. , 289. ,   0. , 172. ,   0. ,   0. ,   1. ,   0. ,\n",
       "          1. ,   0. ,   0. ,   0. ,   1. ,   0. ,   1. ,   0. ,   0. ,\n",
       "          0. ,   1. ],\n",
       "       [ 49. , 160. , 180. ,   0. , 156. ,   1. ,   1. ,   0. ,   0. ,\n",
       "          0. ,   1. ,   0. ,   0. ,   1. ,   0. ,   1. ,   0. ,   0. ,\n",
       "          1. ,   0. ],\n",
       "       [ 37. , 130. , 283. ,   0. ,  98. ,   0. ,   0. ,   1. ,   0. ,\n",
       "          1. ,   0. ,   0. ,   0. ,   0. ,   1. ,   1. ,   0. ,   0. ,\n",
       "          0. ,   1. ],\n",
       "       [ 48. , 138. , 214. ,   0. , 108. ,   1.5,   1. ,   0. ,   1. ,\n",
       "          0. ,   0. ,   0. ,   0. ,   1. ,   0. ,   0. ,   1. ,   0. ,\n",
       "          1. ,   0. ],\n",
       "       [ 54. , 150. , 195. ,   0. , 122. ,   0. ,   0. ,   1. ,   0. ,\n",
       "          0. ,   1. ,   0. ,   0. ,   1. ,   0. ,   1. ,   0. ,   0. ,\n",
       "          0. ,   1. ]])"
      ]
     },
     "execution_count": 5,
     "metadata": {},
     "output_type": "execute_result"
    }
   ],
   "source": [
    "X = np.asarray(proc_df.loc[:, proc_df.columns != 'HeartDisease'])\n",
    "X[0:5]"
   ]
  },
  {
   "cell_type": "code",
   "execution_count": 6,
   "metadata": {},
   "outputs": [
    {
     "data": {
      "text/plain": [
       "array([0, 1, 0, 1, 0])"
      ]
     },
     "execution_count": 6,
     "metadata": {},
     "output_type": "execute_result"
    }
   ],
   "source": [
    "Y = np.asarray(proc_df['HeartDisease'])\n",
    "Y[0:5]"
   ]
  },
  {
   "cell_type": "code",
   "execution_count": 7,
   "metadata": {},
   "outputs": [
    {
     "data": {
      "text/plain": [
       "array([[-1.43220634,  0.41462669,  0.94076249, -0.55173333,  1.38333943,\n",
       "        -0.83150225, -0.51630861,  0.51630861, -1.08542493,  2.07378351,\n",
       "        -0.53152374, -0.22981048, -0.50782627,  0.81501339, -0.49078105,\n",
       "         0.82431012, -0.82431012, -0.27160724, -1.00109111,  1.14957339],\n",
       "       [-0.47805725,  1.52635965, -0.99871403, -0.55173333,  0.75473573,\n",
       "         0.10625149,  1.9368261 , -1.9368261 , -1.08542493, -0.48221041,\n",
       "         1.88138352, -0.22981048, -0.50782627,  0.81501339, -0.49078105,\n",
       "         0.82431012, -0.82431012, -0.27160724,  0.99891008, -0.86988791],\n",
       "       [-1.75025603, -0.14123979,  0.83400232, -0.55173333, -1.52395266,\n",
       "        -0.83150225, -0.51630861,  0.51630861, -1.08542493,  2.07378351,\n",
       "        -0.53152374, -0.22981048, -0.50782627, -1.22697371,  2.0375685 ,\n",
       "         0.82431012, -0.82431012, -0.27160724, -1.00109111,  1.14957339],\n",
       "       [-0.58407381,  0.30345339, -0.3937397 , -0.55173333, -1.13107535,\n",
       "         0.57512835,  1.9368261 , -1.9368261 ,  0.92129817, -0.48221041,\n",
       "        -0.53152374, -0.22981048, -0.50782627,  0.81501339, -0.49078105,\n",
       "        -1.21313565,  1.21313565, -0.27160724,  0.99891008, -0.86988791],\n",
       "       [ 0.05202558,  0.97049317, -0.73181359, -0.55173333, -0.58104712,\n",
       "        -0.83150225, -0.51630861,  0.51630861, -1.08542493, -0.48221041,\n",
       "         1.88138352, -0.22981048, -0.50782627,  0.81501339, -0.49078105,\n",
       "         0.82431012, -0.82431012, -0.27160724, -1.00109111,  1.14957339]])"
      ]
     },
     "execution_count": 7,
     "metadata": {},
     "output_type": "execute_result"
    }
   ],
   "source": [
    "X = preprocessing.StandardScaler().fit(X).transform(X)\n",
    "X[0:5]"
   ]
  },
  {
   "cell_type": "markdown",
   "metadata": {},
   "source": [
    "# Train/test split dataset"
   ]
  },
  {
   "cell_type": "code",
   "execution_count": 8,
   "metadata": {},
   "outputs": [
    {
     "name": "stdout",
     "output_type": "stream",
     "text": [
      "Train set: (733, 20) (733,)\n",
      "Test set: (184, 20) (184,)\n"
     ]
    }
   ],
   "source": [
    "X_train, X_test, Y_train, Y_test = train_test_split(X, Y, test_size=0.2, random_state=4)\n",
    "print('Train set:', X_train.shape, Y_train.shape)\n",
    "print('Test set:', X_test.shape, Y_test.shape)"
   ]
  },
  {
   "cell_type": "markdown",
   "metadata": {},
   "source": [
    "### Grid search logistic regression."
   ]
  },
  {
   "cell_type": "code",
   "execution_count": 18,
   "metadata": {},
   "outputs": [],
   "source": [
    "parameters ={'C':[0.01,0.1,1],\n",
    "             'penalty':['l2'],\n",
    "             'solver':['liblinear']}\n",
    "\n",
    "lr = LogisticRegression()\n",
    "grid_lr = GridSearchCV(lr, parameters, scoring='accuracy', cv=10)\n",
    "logreg_cv = grid_lr.fit(X_train, Y_train)"
   ]
  },
  {
   "cell_type": "code",
   "execution_count": 19,
   "metadata": {},
   "outputs": [
    {
     "name": "stdout",
     "output_type": "stream",
     "text": [
      "tuned hyperparameters: {'C': 0.01, 'penalty': 'l2', 'solver': 'liblinear'}\n",
      "accuracy: 0.8608108108108109\n"
     ]
    }
   ],
   "source": [
    "print('tuned hyperparameters:', logreg_cv.best_params_)\n",
    "print('accuracy:', logreg_cv.best_score_)"
   ]
  },
  {
   "cell_type": "markdown",
   "metadata": {},
   "source": [
    "### Grid search support vector machine."
   ]
  },
  {
   "cell_type": "code",
   "execution_count": 22,
   "metadata": {},
   "outputs": [],
   "source": [
    "parameters_svm = {'kernel':('linear', 'rbf', 'poly', 'rbf', 'sigmoid'),\n",
    "             'C': np.logspace(-3, 3, 5),\n",
    "             'gamma': np.logspace(-3, 3, 5)}\n",
    "\n",
    "svm = SVC()"
   ]
  },
  {
   "cell_type": "code",
   "execution_count": 24,
   "metadata": {},
   "outputs": [],
   "source": [
    "grid_svm = GridSearchCV(svm, parameters_svm, scoring='accuracy', cv=10)\n",
    "svm_cv = grid_svm.fit(X_train, Y_train)"
   ]
  },
  {
   "cell_type": "code",
   "execution_count": 25,
   "metadata": {},
   "outputs": [
    {
     "name": "stdout",
     "output_type": "stream",
     "text": [
      "tuned hpyerparameters: {'C': 1.0, 'gamma': 0.001, 'kernel': 'rbf'}\n",
      "accuracy: 0.8663087745279526\n"
     ]
    }
   ],
   "source": [
    "print(\"tuned hpyerparameters:\", svm_cv.best_params_)\n",
    "print(\"accuracy:\", svm_cv.best_score_)"
   ]
  },
  {
   "cell_type": "code",
   "execution_count": null,
   "metadata": {},
   "outputs": [],
   "source": []
  }
 ],
 "metadata": {
  "kernelspec": {
   "display_name": "deep-learning3",
   "language": "python",
   "name": "deep-learning3"
  },
  "language_info": {
   "codemirror_mode": {
    "name": "ipython",
    "version": 3
   },
   "file_extension": ".py",
   "mimetype": "text/x-python",
   "name": "python",
   "nbconvert_exporter": "python",
   "pygments_lexer": "ipython3",
   "version": "3.8.8"
  }
 },
 "nbformat": 4,
 "nbformat_minor": 4
}
