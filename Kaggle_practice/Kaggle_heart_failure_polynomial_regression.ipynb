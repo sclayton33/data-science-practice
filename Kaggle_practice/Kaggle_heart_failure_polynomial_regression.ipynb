{
 "cells": [
  {
   "cell_type": "markdown",
   "metadata": {},
   "source": [
    "We will load in the processed dataset from the previous notebook."
   ]
  },
  {
   "cell_type": "code",
   "execution_count": 21,
   "metadata": {},
   "outputs": [],
   "source": [
    "import pandas as pd\n",
    "import numpy as np\n",
    "from sklearn.preprocessing import PolynomialFeatures\n",
    "from sklearn.model_selection import train_test_split\n",
    "from sklearn import linear_model\n",
    "from sklearn.metrics import r2_score\n",
    "import matplotlib.pyplot as plt\n",
    "import seaborn as sns"
   ]
  },
  {
   "cell_type": "code",
   "execution_count": 11,
   "metadata": {},
   "outputs": [],
   "source": [
    "# dislpay full column widths and all columns\n",
    "pd.set_option('display.max_columns', None)\n",
    "pd.set_option('display.max_rows', None)\n",
    "pd.set_option('display.max_colwidth', None)"
   ]
  },
  {
   "cell_type": "code",
   "execution_count": 12,
   "metadata": {},
   "outputs": [],
   "source": [
    "proc_df = pd.read_csv('/media/veracrypt3/Cloud/Datasets/Kaggle/heart_processed.csv')"
   ]
  },
  {
   "cell_type": "code",
   "execution_count": 13,
   "metadata": {},
   "outputs": [
    {
     "data": {
      "text/html": [
       "<div>\n",
       "<style scoped>\n",
       "    .dataframe tbody tr th:only-of-type {\n",
       "        vertical-align: middle;\n",
       "    }\n",
       "\n",
       "    .dataframe tbody tr th {\n",
       "        vertical-align: top;\n",
       "    }\n",
       "\n",
       "    .dataframe thead th {\n",
       "        text-align: right;\n",
       "    }\n",
       "</style>\n",
       "<table border=\"1\" class=\"dataframe\">\n",
       "  <thead>\n",
       "    <tr style=\"text-align: right;\">\n",
       "      <th></th>\n",
       "      <th>Age</th>\n",
       "      <th>RestingBP</th>\n",
       "      <th>Cholesterol</th>\n",
       "      <th>FastingBS</th>\n",
       "      <th>MaxHR</th>\n",
       "      <th>Oldpeak</th>\n",
       "      <th>HeartDisease</th>\n",
       "      <th>F</th>\n",
       "      <th>M</th>\n",
       "      <th>ASY</th>\n",
       "      <th>ATA</th>\n",
       "      <th>NAP</th>\n",
       "      <th>TA</th>\n",
       "      <th>LVH</th>\n",
       "      <th>Normal</th>\n",
       "      <th>ST</th>\n",
       "      <th>N</th>\n",
       "      <th>Y</th>\n",
       "      <th>Down</th>\n",
       "      <th>Flat</th>\n",
       "      <th>Up</th>\n",
       "    </tr>\n",
       "  </thead>\n",
       "  <tbody>\n",
       "    <tr>\n",
       "      <th>0</th>\n",
       "      <td>40</td>\n",
       "      <td>140</td>\n",
       "      <td>289.0</td>\n",
       "      <td>0</td>\n",
       "      <td>172</td>\n",
       "      <td>0.0</td>\n",
       "      <td>0</td>\n",
       "      <td>0</td>\n",
       "      <td>1</td>\n",
       "      <td>0</td>\n",
       "      <td>1</td>\n",
       "      <td>0</td>\n",
       "      <td>0</td>\n",
       "      <td>0</td>\n",
       "      <td>1</td>\n",
       "      <td>0</td>\n",
       "      <td>1</td>\n",
       "      <td>0</td>\n",
       "      <td>0</td>\n",
       "      <td>0</td>\n",
       "      <td>1</td>\n",
       "    </tr>\n",
       "    <tr>\n",
       "      <th>1</th>\n",
       "      <td>49</td>\n",
       "      <td>160</td>\n",
       "      <td>180.0</td>\n",
       "      <td>0</td>\n",
       "      <td>156</td>\n",
       "      <td>1.0</td>\n",
       "      <td>1</td>\n",
       "      <td>1</td>\n",
       "      <td>0</td>\n",
       "      <td>0</td>\n",
       "      <td>0</td>\n",
       "      <td>1</td>\n",
       "      <td>0</td>\n",
       "      <td>0</td>\n",
       "      <td>1</td>\n",
       "      <td>0</td>\n",
       "      <td>1</td>\n",
       "      <td>0</td>\n",
       "      <td>0</td>\n",
       "      <td>1</td>\n",
       "      <td>0</td>\n",
       "    </tr>\n",
       "    <tr>\n",
       "      <th>2</th>\n",
       "      <td>37</td>\n",
       "      <td>130</td>\n",
       "      <td>283.0</td>\n",
       "      <td>0</td>\n",
       "      <td>98</td>\n",
       "      <td>0.0</td>\n",
       "      <td>0</td>\n",
       "      <td>0</td>\n",
       "      <td>1</td>\n",
       "      <td>0</td>\n",
       "      <td>1</td>\n",
       "      <td>0</td>\n",
       "      <td>0</td>\n",
       "      <td>0</td>\n",
       "      <td>0</td>\n",
       "      <td>1</td>\n",
       "      <td>1</td>\n",
       "      <td>0</td>\n",
       "      <td>0</td>\n",
       "      <td>0</td>\n",
       "      <td>1</td>\n",
       "    </tr>\n",
       "    <tr>\n",
       "      <th>3</th>\n",
       "      <td>48</td>\n",
       "      <td>138</td>\n",
       "      <td>214.0</td>\n",
       "      <td>0</td>\n",
       "      <td>108</td>\n",
       "      <td>1.5</td>\n",
       "      <td>1</td>\n",
       "      <td>1</td>\n",
       "      <td>0</td>\n",
       "      <td>1</td>\n",
       "      <td>0</td>\n",
       "      <td>0</td>\n",
       "      <td>0</td>\n",
       "      <td>0</td>\n",
       "      <td>1</td>\n",
       "      <td>0</td>\n",
       "      <td>0</td>\n",
       "      <td>1</td>\n",
       "      <td>0</td>\n",
       "      <td>1</td>\n",
       "      <td>0</td>\n",
       "    </tr>\n",
       "    <tr>\n",
       "      <th>4</th>\n",
       "      <td>54</td>\n",
       "      <td>150</td>\n",
       "      <td>195.0</td>\n",
       "      <td>0</td>\n",
       "      <td>122</td>\n",
       "      <td>0.0</td>\n",
       "      <td>0</td>\n",
       "      <td>0</td>\n",
       "      <td>1</td>\n",
       "      <td>0</td>\n",
       "      <td>0</td>\n",
       "      <td>1</td>\n",
       "      <td>0</td>\n",
       "      <td>0</td>\n",
       "      <td>1</td>\n",
       "      <td>0</td>\n",
       "      <td>1</td>\n",
       "      <td>0</td>\n",
       "      <td>0</td>\n",
       "      <td>0</td>\n",
       "      <td>1</td>\n",
       "    </tr>\n",
       "  </tbody>\n",
       "</table>\n",
       "</div>"
      ],
      "text/plain": [
       "   Age  RestingBP  Cholesterol  FastingBS  MaxHR  Oldpeak  HeartDisease  F  M  \\\n",
       "0   40        140        289.0          0    172      0.0             0  0  1   \n",
       "1   49        160        180.0          0    156      1.0             1  1  0   \n",
       "2   37        130        283.0          0     98      0.0             0  0  1   \n",
       "3   48        138        214.0          0    108      1.5             1  1  0   \n",
       "4   54        150        195.0          0    122      0.0             0  0  1   \n",
       "\n",
       "   ASY  ATA  NAP  TA  LVH  Normal  ST  N  Y  Down  Flat  Up  \n",
       "0    0    1    0   0    0       1   0  1  0     0     0   1  \n",
       "1    0    0    1   0    0       1   0  1  0     0     1   0  \n",
       "2    0    1    0   0    0       0   1  1  0     0     0   1  \n",
       "3    1    0    0   0    0       1   0  0  1     0     1   0  \n",
       "4    0    0    1   0    0       1   0  1  0     0     0   1  "
      ]
     },
     "execution_count": 13,
     "metadata": {},
     "output_type": "execute_result"
    }
   ],
   "source": [
    "proc_df.head()"
   ]
  },
  {
   "cell_type": "markdown",
   "metadata": {},
   "source": [
    "# Create X and Y datasets"
   ]
  },
  {
   "cell_type": "code",
   "execution_count": 14,
   "metadata": {},
   "outputs": [
    {
     "data": {
      "text/plain": [
       "array([[ 40. , 140. , 289. ,   0. , 172. ,   0. ,   0. ,   1. ,   0. ,\n",
       "          1. ,   0. ,   0. ,   0. ,   1. ,   0. ,   1. ,   0. ,   0. ,\n",
       "          0. ,   1. ],\n",
       "       [ 49. , 160. , 180. ,   0. , 156. ,   1. ,   1. ,   0. ,   0. ,\n",
       "          0. ,   1. ,   0. ,   0. ,   1. ,   0. ,   1. ,   0. ,   0. ,\n",
       "          1. ,   0. ],\n",
       "       [ 37. , 130. , 283. ,   0. ,  98. ,   0. ,   0. ,   1. ,   0. ,\n",
       "          1. ,   0. ,   0. ,   0. ,   0. ,   1. ,   1. ,   0. ,   0. ,\n",
       "          0. ,   1. ],\n",
       "       [ 48. , 138. , 214. ,   0. , 108. ,   1.5,   1. ,   0. ,   1. ,\n",
       "          0. ,   0. ,   0. ,   0. ,   1. ,   0. ,   0. ,   1. ,   0. ,\n",
       "          1. ,   0. ],\n",
       "       [ 54. , 150. , 195. ,   0. , 122. ,   0. ,   0. ,   1. ,   0. ,\n",
       "          0. ,   1. ,   0. ,   0. ,   1. ,   0. ,   1. ,   0. ,   0. ,\n",
       "          0. ,   1. ]])"
      ]
     },
     "execution_count": 14,
     "metadata": {},
     "output_type": "execute_result"
    }
   ],
   "source": [
    "X = np.asarray(proc_df.loc[:, proc_df.columns != 'HeartDisease'])  # select all columns except 'HeartDisease'\n",
    "X[0:5]"
   ]
  },
  {
   "cell_type": "code",
   "execution_count": 15,
   "metadata": {},
   "outputs": [
    {
     "data": {
      "text/plain": [
       "array([0, 1, 0, 1, 0])"
      ]
     },
     "execution_count": 15,
     "metadata": {},
     "output_type": "execute_result"
    }
   ],
   "source": [
    "Y = np.asarray(proc_df['HeartDisease'])\n",
    "Y[0:5]"
   ]
  },
  {
   "cell_type": "code",
   "execution_count": 16,
   "metadata": {},
   "outputs": [
    {
     "data": {
      "text/plain": [
       "array([[-1.43220634,  0.41462669,  0.94076249, -0.55173333,  1.38333943,\n",
       "        -0.83150225, -0.51630861,  0.51630861, -1.08542493,  2.07378351,\n",
       "        -0.53152374, -0.22981048, -0.50782627,  0.81501339, -0.49078105,\n",
       "         0.82431012, -0.82431012, -0.27160724, -1.00109111,  1.14957339],\n",
       "       [-0.47805725,  1.52635965, -0.99871403, -0.55173333,  0.75473573,\n",
       "         0.10625149,  1.9368261 , -1.9368261 , -1.08542493, -0.48221041,\n",
       "         1.88138352, -0.22981048, -0.50782627,  0.81501339, -0.49078105,\n",
       "         0.82431012, -0.82431012, -0.27160724,  0.99891008, -0.86988791],\n",
       "       [-1.75025603, -0.14123979,  0.83400232, -0.55173333, -1.52395266,\n",
       "        -0.83150225, -0.51630861,  0.51630861, -1.08542493,  2.07378351,\n",
       "        -0.53152374, -0.22981048, -0.50782627, -1.22697371,  2.0375685 ,\n",
       "         0.82431012, -0.82431012, -0.27160724, -1.00109111,  1.14957339],\n",
       "       [-0.58407381,  0.30345339, -0.3937397 , -0.55173333, -1.13107535,\n",
       "         0.57512835,  1.9368261 , -1.9368261 ,  0.92129817, -0.48221041,\n",
       "        -0.53152374, -0.22981048, -0.50782627,  0.81501339, -0.49078105,\n",
       "        -1.21313565,  1.21313565, -0.27160724,  0.99891008, -0.86988791],\n",
       "       [ 0.05202558,  0.97049317, -0.73181359, -0.55173333, -0.58104712,\n",
       "        -0.83150225, -0.51630861,  0.51630861, -1.08542493, -0.48221041,\n",
       "         1.88138352, -0.22981048, -0.50782627,  0.81501339, -0.49078105,\n",
       "         0.82431012, -0.82431012, -0.27160724, -1.00109111,  1.14957339]])"
      ]
     },
     "execution_count": 16,
     "metadata": {},
     "output_type": "execute_result"
    }
   ],
   "source": [
    "X = preprocessing.StandardScaler().fit(X).transform(X)\n",
    "X[0:5]"
   ]
  },
  {
   "cell_type": "markdown",
   "metadata": {},
   "source": [
    "# Train/test split dataset"
   ]
  },
  {
   "cell_type": "code",
   "execution_count": 17,
   "metadata": {},
   "outputs": [
    {
     "name": "stdout",
     "output_type": "stream",
     "text": [
      "Train set: (733, 20) (733,)\n",
      "Test set: (184, 20) (184,)\n"
     ]
    }
   ],
   "source": [
    "X_train, X_test, Y_train, Y_test = train_test_split(X, Y, test_size=0.2, random_state=4)\n",
    "print('Train set:', X_train.shape, Y_train.shape)\n",
    "print('Test set:', X_test.shape, Y_test.shape)"
   ]
  },
  {
   "cell_type": "markdown",
   "metadata": {},
   "source": [
    "# Make polynomial model"
   ]
  },
  {
   "cell_type": "code",
   "execution_count": 18,
   "metadata": {},
   "outputs": [
    {
     "data": {
      "text/plain": [
       "array([[ 1.        ,  0.68812497,  1.52635965, ...,  0.99782135,\n",
       "        -0.86893981,  0.75670498],\n",
       "       [ 1.        ,  0.15804214,  0.41462669, ...,  0.99782135,\n",
       "        -0.86893981,  0.75670498],\n",
       "       [ 1.        ,  0.47609184, -1.80883924, ...,  1.00218341,\n",
       "        -1.1508277 ,  1.32151899],\n",
       "       ...,\n",
       "       [ 1.        ,  2.17235688,  0.30345339, ...,  1.00218341,\n",
       "        -1.1508277 ,  1.32151899],\n",
       "       [ 1.        , -0.16000755,  0.41462669, ...,  0.99782135,\n",
       "        -0.86893981,  0.75670498],\n",
       "       [ 1.        , -0.79610695, -1.25297276, ...,  1.00218341,\n",
       "        -1.1508277 ,  1.32151899]])"
      ]
     },
     "execution_count": 18,
     "metadata": {},
     "output_type": "execute_result"
    }
   ],
   "source": [
    "poly = PolynomialFeatures(degree=2)  # we'll use degree 2 for this run, so squared\n",
    "train_x_poly = poly.fit_transform(X_train)\n",
    "train_x_poly"
   ]
  },
  {
   "cell_type": "code",
   "execution_count": 20,
   "metadata": {},
   "outputs": [
    {
     "name": "stdout",
     "output_type": "stream",
     "text": [
      "Coefficients: [ 9.18414251e+11  4.14270243e-02  3.38287296e-02 -2.99712294e-02\n",
      " -4.40540003e+12 -3.84229770e-02  3.08576313e-02 -1.94645484e+12\n",
      " -3.69648861e+12  2.05273384e+12 -5.65092104e+12  2.76124119e+12\n",
      "  9.46899480e+12 -1.81039529e+12  3.50385863e+12 -3.90875920e+12\n",
      " -2.90480207e+12  1.57902477e+12 -7.38381977e+12 -1.11606486e+13\n",
      " -1.02349326e+13  2.34375000e-02 -5.37109375e-03  4.76074219e-03\n",
      " -2.28881836e-03  1.34277344e-02  1.01928711e-02 -7.71652523e+11\n",
      " -7.71652523e+11  5.39047432e+11  4.23208727e+11  4.48305225e+11\n",
      "  2.36120171e+11 -3.89986656e+12 -4.73067813e+12 -3.82066781e+12\n",
      "  5.16720050e+10  5.16720050e+10  7.94904991e+11  1.57128547e+12\n",
      "  1.55614411e+12  1.22070312e-03  1.56555176e-02 -1.08642578e-02\n",
      " -2.13012695e-02  1.06201172e-02 -8.72287504e+11 -8.72287504e+11\n",
      " -4.69244640e+12 -3.68406219e+12 -3.90252901e+12 -2.05544295e+12\n",
      "  2.82044232e+12  3.42129779e+12  2.76316459e+12 -1.93702608e+11\n",
      " -1.93702608e+11 -8.25005331e+11 -1.63078469e+12 -1.61506998e+12\n",
      "  7.08007812e-03 -2.75878906e-02  4.26635742e-02  4.48608398e-03\n",
      "  5.56553341e+11  5.56553341e+11 -5.06862571e+12 -3.97940238e+12\n",
      " -4.21538302e+12 -2.22022163e+12 -1.59577498e+12 -1.93573234e+12\n",
      " -1.56336788e+12 -2.09532850e+12 -2.09532850e+12  3.91233533e+10\n",
      "  7.73349739e+10  7.65897516e+10  3.49430686e+12  7.32421875e-04\n",
      " -3.75366211e-03  2.27801106e+12  2.27801106e+12 -2.03673918e+12\n",
      " -1.59905371e+12 -1.69387843e+12 -8.92157487e+11 -9.82687998e+12\n",
      " -1.19203582e+13 -9.62731504e+12 -1.42006376e+12 -1.42006376e+12\n",
      " -3.52637563e+12 -6.97057241e+12 -6.90340195e+12 -4.02832031e-03\n",
      "  8.14819336e-03 -2.46032740e+12 -2.46032740e+12  8.26872622e+12\n",
      "  6.49181665e+12  6.87678477e+12  3.62196892e+12 -4.96640552e+12\n",
      " -6.02442818e+12 -4.86554742e+12 -2.71079383e+12 -2.71079383e+12\n",
      "  4.55880261e+11  9.01136665e+11  8.92453049e+11  1.29394531e-02\n",
      "  1.86911628e+12  1.86911628e+12  5.44530399e+11  4.27513430e+11\n",
      "  4.52865200e+11  2.38521887e+11  2.04959092e+11  2.48622736e+11\n",
      "  2.00796769e+11  3.37254839e+10  3.37254839e+10  2.34874634e+12\n",
      "  4.64275737e+12  4.59801841e+12  1.72362160e+12  1.03059995e+12\n",
      " -1.86688075e+12 -2.41569802e+11  1.76089075e+12 -6.33531014e+12\n",
      "  1.85356255e+12  7.26547521e+12  3.98731648e+12  6.08794443e+12\n",
      " -5.74282732e+12 -1.77791832e+11 -1.19793049e+12 -6.28278306e+12\n",
      " -1.92499083e+12 -1.53751314e+11  1.10341634e+12  3.18563527e+12\n",
      " -5.58490416e+12 -6.96238054e+12 -3.42858023e+12 -4.64959184e+12\n",
      "  5.91538528e+12 -5.91538647e+12  6.16928626e+12  1.13483130e+13\n",
      "  6.14256122e+12  1.43291989e+11  1.08832621e+12  3.79497505e+12\n",
      "  1.43027578e+12  2.96464622e+11  3.21652476e+12 -2.17315428e+12\n",
      "  9.32833019e+11 -2.51072868e+11 -1.03344175e+13 -1.07260298e+13\n",
      " -1.16996032e+13  2.92049766e+12 -2.93247104e+12  1.53307831e+11\n",
      "  1.32844246e+12  3.85441629e+12 -6.32718469e+11  6.78997092e+11\n",
      " -2.50493104e+11 -3.51082545e+12  6.77229820e+11 -1.74801011e+11\n",
      " -9.73135288e+11 -2.42673284e+12 -5.17749806e+12 -3.90451395e+12\n",
      " -7.12123396e+12  1.71365305e+12  7.29043596e+11 -2.84618116e+12\n",
      "  2.44272537e+12  1.52354283e+12 -2.30518108e+12 -6.70013300e+12\n",
      " -6.87608634e+12 -7.64320179e+12  1.83761954e+12  1.31903055e+12\n",
      " -3.92977937e+12 -3.51820243e+12 -3.95603118e+12  8.63961432e+12\n",
      "  8.91756841e+12  1.40935241e+12  3.17966270e+12 -5.29995816e+12\n",
      "  9.80573564e+11 -1.36147029e+12 -4.16095737e+12 -1.44339008e+12\n",
      "  1.14592292e+12  5.55117045e+12 -4.73491405e+12  2.43070125e+12\n",
      "  8.02022599e+11 -2.61749870e+12  3.38049539e+12  4.57880757e+12\n",
      " -3.72860857e+12  4.35198310e+12  5.36979315e+12  2.56256026e+12\n",
      " -3.84390664e+12  3.84390629e+12 -5.93658267e+11 -2.27031529e+12\n",
      " -2.41934012e+12 -3.84390629e+12  2.13045750e+12  3.11443330e+12\n",
      "  2.91351947e+12 -5.70468725e+12 -1.60999167e+13 -8.85590450e+12\n",
      "  1.37244159e+12 -9.51487220e+11  3.47333302e+12]\n",
      "Intercept: 231640207100.66913\n"
     ]
    }
   ],
   "source": [
    "clf = linear_model.LinearRegression()\n",
    "train_y = clf.fit(train_x_poly, Y_train)\n",
    "\n",
    "print('Coefficients:', clf.coef_)\n",
    "print('Intercept:', clf.intercept_)"
   ]
  },
  {
   "cell_type": "markdown",
   "metadata": {},
   "source": [
    "# Evaluation"
   ]
  },
  {
   "cell_type": "code",
   "execution_count": 26,
   "metadata": {},
   "outputs": [
    {
     "name": "stdout",
     "output_type": "stream",
     "text": [
      "Mean absolute error: 0.27\n",
      "Residual sum of squares (MSE): 0.15\n",
      "R2-score: 0.3938756546797282\n"
     ]
    }
   ],
   "source": [
    "test_x_poly = poly.fit_transform(X_test)\n",
    "test_y = clf.predict(test_x_poly)\n",
    "\n",
    "print(f'Mean absolute error: {np.mean(np.absolute(test_y - Y_test)):.2f}')\n",
    "print(f'Residual sum of squares (MSE): {np.mean((test_y - Y_test) ** 2):.2f}')\n",
    "print(f'R2-score: {r2_score(Y_test, test_y)}')"
   ]
  },
  {
   "cell_type": "markdown",
   "metadata": {},
   "source": [
    "Our R2 score is only 0.39, which is not very good, so 2 degree polynomial regression doesn't seem to perform as well as just linear regression."
   ]
  },
  {
   "cell_type": "code",
   "execution_count": null,
   "metadata": {},
   "outputs": [],
   "source": []
  }
 ],
 "metadata": {
  "kernelspec": {
   "display_name": "deep-learning3",
   "language": "python",
   "name": "deep-learning3"
  },
  "language_info": {
   "codemirror_mode": {
    "name": "ipython",
    "version": 3
   },
   "file_extension": ".py",
   "mimetype": "text/x-python",
   "name": "python",
   "nbconvert_exporter": "python",
   "pygments_lexer": "ipython3",
   "version": "3.8.8"
  }
 },
 "nbformat": 4,
 "nbformat_minor": 4
}
