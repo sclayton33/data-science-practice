{
 "cells": [
  {
   "cell_type": "markdown",
   "metadata": {},
   "source": [
    "Using [UC Irvine Heart Disease dataset](https://archive-beta.ics.uci.edu/ml/datasets/heart+disease). The modified cleve.mod version was used. <b>Rename cleve.mod to clevemod.txt<b>.\n",
    "\n",
    "Full citation: Janosi, Andras, Steinbrunn, William, Pfisterer, Matthias, Detrano, Robert & M.D., M.D.. (1988). Heart Disease. UCI Machine Learning Repository."
   ]
  },
  {
   "cell_type": "markdown",
   "metadata": {},
   "source": [
    "This is Dr. Detrano's database modified to be a real MIXED dataset.\n",
    "\n",
    "Attributes: 8 symbolic, 6 numeric.\n",
    "  Age; sex; chest pain type (angina, abnang, notang, asympt)\n",
    "  Trestbps (resting blood pres); cholesteral; fasting blood sugar < 120\n",
    "  (true or false); resting ecg (norm, abn, hyper); max heart rate; \n",
    "  exercise induced angina (true or false); oldpeak; slope (up, flat, down)\n",
    "  number of vessels colored (???); thal (norm, fixed, rever). Finally, the\n",
    "  class is either healthy (buff) or with heart-disease (sick)."
   ]
  },
  {
   "cell_type": "markdown",
   "metadata": {},
   "source": [
    "# Import dataset and clean"
   ]
  },
  {
   "cell_type": "code",
   "execution_count": 69,
   "metadata": {},
   "outputs": [],
   "source": [
    "import csv\n",
    "import pandas as pd\n",
    "import numpy as np\n",
    "from sklearn import preprocessing\n",
    "from sklearn.model_selection import train_test_split\n",
    "from sklearn.linear_model import LogisticRegression\n",
    "from sklearn.metrics import classification_report\n",
    "import matplotlib.pyplot as plt\n",
    "import seaborn as sns"
   ]
  },
  {
   "cell_type": "code",
   "execution_count": 2,
   "metadata": {},
   "outputs": [],
   "source": [
    "# dislpay full column widths and all columns\n",
    "pd.set_option('display.max_columns', None)\n",
    "pd.set_option('display.max_rows', None)\n",
    "pd.set_option('display.max_colwidth', None)"
   ]
  },
  {
   "cell_type": "markdown",
   "metadata": {},
   "source": [
    "Uncomment the code cell below to convert the original tab-delimited clevemod.txt file into a .csv file."
   ]
  },
  {
   "cell_type": "code",
   "execution_count": 3,
   "metadata": {},
   "outputs": [],
   "source": [
    "# convert the tab delimited .txt file into a .csv file\n",
    "\n",
    "# with open(yourfilein) as f_in, open(yourfileout, 'w') as f_out:\n",
    "#     o = csv.writer(f_out)\n",
    "#     for line in f_in:\n",
    "#         o.writerow(line.split())"
   ]
  },
  {
   "cell_type": "code",
   "execution_count": 4,
   "metadata": {},
   "outputs": [],
   "source": [
    "cv_df = pd.read_csv('/media/veracrypt3/Cloud/Datasets/clevemod.csv')"
   ]
  },
  {
   "cell_type": "code",
   "execution_count": 5,
   "metadata": {},
   "outputs": [
    {
     "data": {
      "text/html": [
       "<div>\n",
       "<style scoped>\n",
       "    .dataframe tbody tr th:only-of-type {\n",
       "        vertical-align: middle;\n",
       "    }\n",
       "\n",
       "    .dataframe tbody tr th {\n",
       "        vertical-align: top;\n",
       "    }\n",
       "\n",
       "    .dataframe thead th {\n",
       "        text-align: right;\n",
       "    }\n",
       "</style>\n",
       "<table border=\"1\" class=\"dataframe\">\n",
       "  <thead>\n",
       "    <tr style=\"text-align: right;\">\n",
       "      <th></th>\n",
       "      <th>age</th>\n",
       "      <th>sex</th>\n",
       "      <th>chest_pain_type</th>\n",
       "      <th>trestbps</th>\n",
       "      <th>cholesterol</th>\n",
       "      <th>fasting_blood_sugar_less120</th>\n",
       "      <th>rest_ecg</th>\n",
       "      <th>max_hr</th>\n",
       "      <th>exercise_induced_angina</th>\n",
       "      <th>oldpeak</th>\n",
       "      <th>slope</th>\n",
       "      <th>num_vessel_colored</th>\n",
       "      <th>thal</th>\n",
       "      <th>class</th>\n",
       "      <th>unknown</th>\n",
       "    </tr>\n",
       "  </thead>\n",
       "  <tbody>\n",
       "    <tr>\n",
       "      <th>0</th>\n",
       "      <td>63.0</td>\n",
       "      <td>male</td>\n",
       "      <td>angina</td>\n",
       "      <td>145.0</td>\n",
       "      <td>233.0</td>\n",
       "      <td>true</td>\n",
       "      <td>hyp</td>\n",
       "      <td>150.0</td>\n",
       "      <td>fal</td>\n",
       "      <td>2.3</td>\n",
       "      <td>down</td>\n",
       "      <td>0.0</td>\n",
       "      <td>fix</td>\n",
       "      <td>buff</td>\n",
       "      <td>H</td>\n",
       "    </tr>\n",
       "    <tr>\n",
       "      <th>1</th>\n",
       "      <td>67.0</td>\n",
       "      <td>male</td>\n",
       "      <td>asympt</td>\n",
       "      <td>160.0</td>\n",
       "      <td>286.0</td>\n",
       "      <td>fal</td>\n",
       "      <td>hyp</td>\n",
       "      <td>108.0</td>\n",
       "      <td>true</td>\n",
       "      <td>1.5</td>\n",
       "      <td>flat</td>\n",
       "      <td>3.0</td>\n",
       "      <td>norm</td>\n",
       "      <td>sick</td>\n",
       "      <td>S2</td>\n",
       "    </tr>\n",
       "    <tr>\n",
       "      <th>2</th>\n",
       "      <td>67.0</td>\n",
       "      <td>male</td>\n",
       "      <td>asympt</td>\n",
       "      <td>120.0</td>\n",
       "      <td>229.0</td>\n",
       "      <td>fal</td>\n",
       "      <td>hyp</td>\n",
       "      <td>129.0</td>\n",
       "      <td>true</td>\n",
       "      <td>2.6</td>\n",
       "      <td>flat</td>\n",
       "      <td>2.0</td>\n",
       "      <td>rev</td>\n",
       "      <td>sick</td>\n",
       "      <td>S1</td>\n",
       "    </tr>\n",
       "    <tr>\n",
       "      <th>3</th>\n",
       "      <td>37.0</td>\n",
       "      <td>male</td>\n",
       "      <td>notang</td>\n",
       "      <td>130.0</td>\n",
       "      <td>250.0</td>\n",
       "      <td>fal</td>\n",
       "      <td>norm</td>\n",
       "      <td>187.0</td>\n",
       "      <td>fal</td>\n",
       "      <td>3.5</td>\n",
       "      <td>down</td>\n",
       "      <td>0.0</td>\n",
       "      <td>norm</td>\n",
       "      <td>buff</td>\n",
       "      <td>H</td>\n",
       "    </tr>\n",
       "    <tr>\n",
       "      <th>4</th>\n",
       "      <td>41.0</td>\n",
       "      <td>fem</td>\n",
       "      <td>abnang</td>\n",
       "      <td>130.0</td>\n",
       "      <td>204.0</td>\n",
       "      <td>fal</td>\n",
       "      <td>hyp</td>\n",
       "      <td>172.0</td>\n",
       "      <td>fal</td>\n",
       "      <td>1.4</td>\n",
       "      <td>up</td>\n",
       "      <td>0.0</td>\n",
       "      <td>norm</td>\n",
       "      <td>buff</td>\n",
       "      <td>H</td>\n",
       "    </tr>\n",
       "  </tbody>\n",
       "</table>\n",
       "</div>"
      ],
      "text/plain": [
       "    age   sex chest_pain_type  trestbps  cholesterol  \\\n",
       "0  63.0  male          angina     145.0        233.0   \n",
       "1  67.0  male          asympt     160.0        286.0   \n",
       "2  67.0  male          asympt     120.0        229.0   \n",
       "3  37.0  male          notang     130.0        250.0   \n",
       "4  41.0   fem          abnang     130.0        204.0   \n",
       "\n",
       "  fasting_blood_sugar_less120 rest_ecg  max_hr exercise_induced_angina  \\\n",
       "0                        true      hyp   150.0                     fal   \n",
       "1                         fal      hyp   108.0                    true   \n",
       "2                         fal      hyp   129.0                    true   \n",
       "3                         fal     norm   187.0                     fal   \n",
       "4                         fal      hyp   172.0                     fal   \n",
       "\n",
       "   oldpeak slope num_vessel_colored  thal class unknown  \n",
       "0      2.3  down                0.0   fix  buff       H  \n",
       "1      1.5  flat                3.0  norm  sick      S2  \n",
       "2      2.6  flat                2.0   rev  sick      S1  \n",
       "3      3.5  down                0.0  norm  buff       H  \n",
       "4      1.4    up                0.0  norm  buff       H  "
      ]
     },
     "execution_count": 5,
     "metadata": {},
     "output_type": "execute_result"
    }
   ],
   "source": [
    "cv_df.head()"
   ]
  },
  {
   "cell_type": "code",
   "execution_count": 6,
   "metadata": {},
   "outputs": [
    {
     "data": {
      "text/html": [
       "<div>\n",
       "<style scoped>\n",
       "    .dataframe tbody tr th:only-of-type {\n",
       "        vertical-align: middle;\n",
       "    }\n",
       "\n",
       "    .dataframe tbody tr th {\n",
       "        vertical-align: top;\n",
       "    }\n",
       "\n",
       "    .dataframe thead th {\n",
       "        text-align: right;\n",
       "    }\n",
       "</style>\n",
       "<table border=\"1\" class=\"dataframe\">\n",
       "  <thead>\n",
       "    <tr style=\"text-align: right;\">\n",
       "      <th></th>\n",
       "      <th>age</th>\n",
       "      <th>sex</th>\n",
       "      <th>chest_pain_type</th>\n",
       "      <th>trestbps</th>\n",
       "      <th>cholesterol</th>\n",
       "      <th>fasting_blood_sugar_less120</th>\n",
       "      <th>rest_ecg</th>\n",
       "      <th>max_hr</th>\n",
       "      <th>exercise_induced_angina</th>\n",
       "      <th>oldpeak</th>\n",
       "      <th>slope</th>\n",
       "      <th>num_vessel_colored</th>\n",
       "      <th>thal</th>\n",
       "      <th>class</th>\n",
       "    </tr>\n",
       "  </thead>\n",
       "  <tbody>\n",
       "    <tr>\n",
       "      <th>0</th>\n",
       "      <td>63.0</td>\n",
       "      <td>male</td>\n",
       "      <td>angina</td>\n",
       "      <td>145.0</td>\n",
       "      <td>233.0</td>\n",
       "      <td>true</td>\n",
       "      <td>hyp</td>\n",
       "      <td>150.0</td>\n",
       "      <td>fal</td>\n",
       "      <td>2.3</td>\n",
       "      <td>down</td>\n",
       "      <td>0.0</td>\n",
       "      <td>fix</td>\n",
       "      <td>buff</td>\n",
       "    </tr>\n",
       "    <tr>\n",
       "      <th>1</th>\n",
       "      <td>67.0</td>\n",
       "      <td>male</td>\n",
       "      <td>asympt</td>\n",
       "      <td>160.0</td>\n",
       "      <td>286.0</td>\n",
       "      <td>fal</td>\n",
       "      <td>hyp</td>\n",
       "      <td>108.0</td>\n",
       "      <td>true</td>\n",
       "      <td>1.5</td>\n",
       "      <td>flat</td>\n",
       "      <td>3.0</td>\n",
       "      <td>norm</td>\n",
       "      <td>sick</td>\n",
       "    </tr>\n",
       "    <tr>\n",
       "      <th>2</th>\n",
       "      <td>67.0</td>\n",
       "      <td>male</td>\n",
       "      <td>asympt</td>\n",
       "      <td>120.0</td>\n",
       "      <td>229.0</td>\n",
       "      <td>fal</td>\n",
       "      <td>hyp</td>\n",
       "      <td>129.0</td>\n",
       "      <td>true</td>\n",
       "      <td>2.6</td>\n",
       "      <td>flat</td>\n",
       "      <td>2.0</td>\n",
       "      <td>rev</td>\n",
       "      <td>sick</td>\n",
       "    </tr>\n",
       "    <tr>\n",
       "      <th>3</th>\n",
       "      <td>37.0</td>\n",
       "      <td>male</td>\n",
       "      <td>notang</td>\n",
       "      <td>130.0</td>\n",
       "      <td>250.0</td>\n",
       "      <td>fal</td>\n",
       "      <td>norm</td>\n",
       "      <td>187.0</td>\n",
       "      <td>fal</td>\n",
       "      <td>3.5</td>\n",
       "      <td>down</td>\n",
       "      <td>0.0</td>\n",
       "      <td>norm</td>\n",
       "      <td>buff</td>\n",
       "    </tr>\n",
       "    <tr>\n",
       "      <th>4</th>\n",
       "      <td>41.0</td>\n",
       "      <td>fem</td>\n",
       "      <td>abnang</td>\n",
       "      <td>130.0</td>\n",
       "      <td>204.0</td>\n",
       "      <td>fal</td>\n",
       "      <td>hyp</td>\n",
       "      <td>172.0</td>\n",
       "      <td>fal</td>\n",
       "      <td>1.4</td>\n",
       "      <td>up</td>\n",
       "      <td>0.0</td>\n",
       "      <td>norm</td>\n",
       "      <td>buff</td>\n",
       "    </tr>\n",
       "  </tbody>\n",
       "</table>\n",
       "</div>"
      ],
      "text/plain": [
       "    age   sex chest_pain_type  trestbps  cholesterol  \\\n",
       "0  63.0  male          angina     145.0        233.0   \n",
       "1  67.0  male          asympt     160.0        286.0   \n",
       "2  67.0  male          asympt     120.0        229.0   \n",
       "3  37.0  male          notang     130.0        250.0   \n",
       "4  41.0   fem          abnang     130.0        204.0   \n",
       "\n",
       "  fasting_blood_sugar_less120 rest_ecg  max_hr exercise_induced_angina  \\\n",
       "0                        true      hyp   150.0                     fal   \n",
       "1                         fal      hyp   108.0                    true   \n",
       "2                         fal      hyp   129.0                    true   \n",
       "3                         fal     norm   187.0                     fal   \n",
       "4                         fal      hyp   172.0                     fal   \n",
       "\n",
       "   oldpeak slope num_vessel_colored  thal class  \n",
       "0      2.3  down                0.0   fix  buff  \n",
       "1      1.5  flat                3.0  norm  sick  \n",
       "2      2.6  flat                2.0   rev  sick  \n",
       "3      3.5  down                0.0  norm  buff  \n",
       "4      1.4    up                0.0  norm  buff  "
      ]
     },
     "execution_count": 6,
     "metadata": {},
     "output_type": "execute_result"
    }
   ],
   "source": [
    "# the column unknown was labelled by me, it's meaning is not explained in the info above so let's just drop it\n",
    "cv_df.drop(['unknown'], axis=1, inplace=True)\n",
    "\n",
    "cv_df.head()"
   ]
  },
  {
   "cell_type": "code",
   "execution_count": 7,
   "metadata": {},
   "outputs": [
    {
     "data": {
      "text/plain": [
       "(303, 14)"
      ]
     },
     "execution_count": 7,
     "metadata": {},
     "output_type": "execute_result"
    }
   ],
   "source": [
    "cv_df.shape # should be 303 rows and 14 columns"
   ]
  },
  {
   "cell_type": "code",
   "execution_count": 8,
   "metadata": {},
   "outputs": [
    {
     "data": {
      "text/html": [
       "<div>\n",
       "<style scoped>\n",
       "    .dataframe tbody tr th:only-of-type {\n",
       "        vertical-align: middle;\n",
       "    }\n",
       "\n",
       "    .dataframe tbody tr th {\n",
       "        vertical-align: top;\n",
       "    }\n",
       "\n",
       "    .dataframe thead th {\n",
       "        text-align: right;\n",
       "    }\n",
       "</style>\n",
       "<table border=\"1\" class=\"dataframe\">\n",
       "  <thead>\n",
       "    <tr style=\"text-align: right;\">\n",
       "      <th></th>\n",
       "      <th>age</th>\n",
       "      <th>sex</th>\n",
       "      <th>chest_pain_type</th>\n",
       "      <th>trestbps</th>\n",
       "      <th>cholesterol</th>\n",
       "      <th>fasting_blood_sugar_less120</th>\n",
       "      <th>rest_ecg</th>\n",
       "      <th>max_hr</th>\n",
       "      <th>exercise_induced_angina</th>\n",
       "      <th>oldpeak</th>\n",
       "      <th>slope</th>\n",
       "      <th>num_vessel_colored</th>\n",
       "      <th>thal</th>\n",
       "      <th>class</th>\n",
       "    </tr>\n",
       "  </thead>\n",
       "  <tbody>\n",
       "    <tr>\n",
       "      <th>count</th>\n",
       "      <td>303.000000</td>\n",
       "      <td>303</td>\n",
       "      <td>303</td>\n",
       "      <td>303.000000</td>\n",
       "      <td>303.000000</td>\n",
       "      <td>303</td>\n",
       "      <td>303</td>\n",
       "      <td>303.000000</td>\n",
       "      <td>303</td>\n",
       "      <td>303.000000</td>\n",
       "      <td>303</td>\n",
       "      <td>303</td>\n",
       "      <td>303</td>\n",
       "      <td>303</td>\n",
       "    </tr>\n",
       "    <tr>\n",
       "      <th>unique</th>\n",
       "      <td>NaN</td>\n",
       "      <td>2</td>\n",
       "      <td>4</td>\n",
       "      <td>NaN</td>\n",
       "      <td>NaN</td>\n",
       "      <td>2</td>\n",
       "      <td>3</td>\n",
       "      <td>NaN</td>\n",
       "      <td>2</td>\n",
       "      <td>NaN</td>\n",
       "      <td>3</td>\n",
       "      <td>5</td>\n",
       "      <td>4</td>\n",
       "      <td>2</td>\n",
       "    </tr>\n",
       "    <tr>\n",
       "      <th>top</th>\n",
       "      <td>NaN</td>\n",
       "      <td>male</td>\n",
       "      <td>asympt</td>\n",
       "      <td>NaN</td>\n",
       "      <td>NaN</td>\n",
       "      <td>fal</td>\n",
       "      <td>norm</td>\n",
       "      <td>NaN</td>\n",
       "      <td>fal</td>\n",
       "      <td>NaN</td>\n",
       "      <td>up</td>\n",
       "      <td>0.0</td>\n",
       "      <td>norm</td>\n",
       "      <td>buff</td>\n",
       "    </tr>\n",
       "    <tr>\n",
       "      <th>freq</th>\n",
       "      <td>NaN</td>\n",
       "      <td>207</td>\n",
       "      <td>143</td>\n",
       "      <td>NaN</td>\n",
       "      <td>NaN</td>\n",
       "      <td>258</td>\n",
       "      <td>152</td>\n",
       "      <td>NaN</td>\n",
       "      <td>204</td>\n",
       "      <td>NaN</td>\n",
       "      <td>142</td>\n",
       "      <td>175</td>\n",
       "      <td>166</td>\n",
       "      <td>165</td>\n",
       "    </tr>\n",
       "    <tr>\n",
       "      <th>mean</th>\n",
       "      <td>54.366337</td>\n",
       "      <td>NaN</td>\n",
       "      <td>NaN</td>\n",
       "      <td>131.623762</td>\n",
       "      <td>246.264026</td>\n",
       "      <td>NaN</td>\n",
       "      <td>NaN</td>\n",
       "      <td>149.646865</td>\n",
       "      <td>NaN</td>\n",
       "      <td>1.039604</td>\n",
       "      <td>NaN</td>\n",
       "      <td>NaN</td>\n",
       "      <td>NaN</td>\n",
       "      <td>NaN</td>\n",
       "    </tr>\n",
       "    <tr>\n",
       "      <th>std</th>\n",
       "      <td>9.082101</td>\n",
       "      <td>NaN</td>\n",
       "      <td>NaN</td>\n",
       "      <td>17.538143</td>\n",
       "      <td>51.830751</td>\n",
       "      <td>NaN</td>\n",
       "      <td>NaN</td>\n",
       "      <td>22.905161</td>\n",
       "      <td>NaN</td>\n",
       "      <td>1.161075</td>\n",
       "      <td>NaN</td>\n",
       "      <td>NaN</td>\n",
       "      <td>NaN</td>\n",
       "      <td>NaN</td>\n",
       "    </tr>\n",
       "    <tr>\n",
       "      <th>min</th>\n",
       "      <td>29.000000</td>\n",
       "      <td>NaN</td>\n",
       "      <td>NaN</td>\n",
       "      <td>94.000000</td>\n",
       "      <td>126.000000</td>\n",
       "      <td>NaN</td>\n",
       "      <td>NaN</td>\n",
       "      <td>71.000000</td>\n",
       "      <td>NaN</td>\n",
       "      <td>0.000000</td>\n",
       "      <td>NaN</td>\n",
       "      <td>NaN</td>\n",
       "      <td>NaN</td>\n",
       "      <td>NaN</td>\n",
       "    </tr>\n",
       "    <tr>\n",
       "      <th>25%</th>\n",
       "      <td>47.500000</td>\n",
       "      <td>NaN</td>\n",
       "      <td>NaN</td>\n",
       "      <td>120.000000</td>\n",
       "      <td>211.000000</td>\n",
       "      <td>NaN</td>\n",
       "      <td>NaN</td>\n",
       "      <td>133.500000</td>\n",
       "      <td>NaN</td>\n",
       "      <td>0.000000</td>\n",
       "      <td>NaN</td>\n",
       "      <td>NaN</td>\n",
       "      <td>NaN</td>\n",
       "      <td>NaN</td>\n",
       "    </tr>\n",
       "    <tr>\n",
       "      <th>50%</th>\n",
       "      <td>55.000000</td>\n",
       "      <td>NaN</td>\n",
       "      <td>NaN</td>\n",
       "      <td>130.000000</td>\n",
       "      <td>240.000000</td>\n",
       "      <td>NaN</td>\n",
       "      <td>NaN</td>\n",
       "      <td>153.000000</td>\n",
       "      <td>NaN</td>\n",
       "      <td>0.800000</td>\n",
       "      <td>NaN</td>\n",
       "      <td>NaN</td>\n",
       "      <td>NaN</td>\n",
       "      <td>NaN</td>\n",
       "    </tr>\n",
       "    <tr>\n",
       "      <th>75%</th>\n",
       "      <td>61.000000</td>\n",
       "      <td>NaN</td>\n",
       "      <td>NaN</td>\n",
       "      <td>140.000000</td>\n",
       "      <td>274.500000</td>\n",
       "      <td>NaN</td>\n",
       "      <td>NaN</td>\n",
       "      <td>166.000000</td>\n",
       "      <td>NaN</td>\n",
       "      <td>1.600000</td>\n",
       "      <td>NaN</td>\n",
       "      <td>NaN</td>\n",
       "      <td>NaN</td>\n",
       "      <td>NaN</td>\n",
       "    </tr>\n",
       "    <tr>\n",
       "      <th>max</th>\n",
       "      <td>77.000000</td>\n",
       "      <td>NaN</td>\n",
       "      <td>NaN</td>\n",
       "      <td>200.000000</td>\n",
       "      <td>564.000000</td>\n",
       "      <td>NaN</td>\n",
       "      <td>NaN</td>\n",
       "      <td>202.000000</td>\n",
       "      <td>NaN</td>\n",
       "      <td>6.200000</td>\n",
       "      <td>NaN</td>\n",
       "      <td>NaN</td>\n",
       "      <td>NaN</td>\n",
       "      <td>NaN</td>\n",
       "    </tr>\n",
       "  </tbody>\n",
       "</table>\n",
       "</div>"
      ],
      "text/plain": [
       "               age   sex chest_pain_type    trestbps  cholesterol  \\\n",
       "count   303.000000   303             303  303.000000   303.000000   \n",
       "unique         NaN     2               4         NaN          NaN   \n",
       "top            NaN  male          asympt         NaN          NaN   \n",
       "freq           NaN   207             143         NaN          NaN   \n",
       "mean     54.366337   NaN             NaN  131.623762   246.264026   \n",
       "std       9.082101   NaN             NaN   17.538143    51.830751   \n",
       "min      29.000000   NaN             NaN   94.000000   126.000000   \n",
       "25%      47.500000   NaN             NaN  120.000000   211.000000   \n",
       "50%      55.000000   NaN             NaN  130.000000   240.000000   \n",
       "75%      61.000000   NaN             NaN  140.000000   274.500000   \n",
       "max      77.000000   NaN             NaN  200.000000   564.000000   \n",
       "\n",
       "       fasting_blood_sugar_less120 rest_ecg      max_hr  \\\n",
       "count                          303      303  303.000000   \n",
       "unique                           2        3         NaN   \n",
       "top                            fal     norm         NaN   \n",
       "freq                           258      152         NaN   \n",
       "mean                           NaN      NaN  149.646865   \n",
       "std                            NaN      NaN   22.905161   \n",
       "min                            NaN      NaN   71.000000   \n",
       "25%                            NaN      NaN  133.500000   \n",
       "50%                            NaN      NaN  153.000000   \n",
       "75%                            NaN      NaN  166.000000   \n",
       "max                            NaN      NaN  202.000000   \n",
       "\n",
       "       exercise_induced_angina     oldpeak slope num_vessel_colored  thal  \\\n",
       "count                      303  303.000000   303                303   303   \n",
       "unique                       2         NaN     3                  5     4   \n",
       "top                        fal         NaN    up                0.0  norm   \n",
       "freq                       204         NaN   142                175   166   \n",
       "mean                       NaN    1.039604   NaN                NaN   NaN   \n",
       "std                        NaN    1.161075   NaN                NaN   NaN   \n",
       "min                        NaN    0.000000   NaN                NaN   NaN   \n",
       "25%                        NaN    0.000000   NaN                NaN   NaN   \n",
       "50%                        NaN    0.800000   NaN                NaN   NaN   \n",
       "75%                        NaN    1.600000   NaN                NaN   NaN   \n",
       "max                        NaN    6.200000   NaN                NaN   NaN   \n",
       "\n",
       "       class  \n",
       "count    303  \n",
       "unique     2  \n",
       "top     buff  \n",
       "freq     165  \n",
       "mean     NaN  \n",
       "std      NaN  \n",
       "min      NaN  \n",
       "25%      NaN  \n",
       "50%      NaN  \n",
       "75%      NaN  \n",
       "max      NaN  "
      ]
     },
     "execution_count": 8,
     "metadata": {},
     "output_type": "execute_result"
    }
   ],
   "source": [
    "cv_df.describe(include='all')"
   ]
  },
  {
   "cell_type": "code",
   "execution_count": 9,
   "metadata": {},
   "outputs": [
    {
     "data": {
      "text/plain": [
       "age                            float64\n",
       "sex                             object\n",
       "chest_pain_type                 object\n",
       "trestbps                       float64\n",
       "cholesterol                    float64\n",
       "fasting_blood_sugar_less120     object\n",
       "rest_ecg                        object\n",
       "max_hr                         float64\n",
       "exercise_induced_angina         object\n",
       "oldpeak                        float64\n",
       "slope                           object\n",
       "num_vessel_colored              object\n",
       "thal                            object\n",
       "class                           object\n",
       "dtype: object"
      ]
     },
     "execution_count": 9,
     "metadata": {},
     "output_type": "execute_result"
    }
   ],
   "source": [
    "cv_df.dtypes"
   ]
  },
  {
   "cell_type": "code",
   "execution_count": 10,
   "metadata": {},
   "outputs": [
    {
     "data": {
      "text/plain": [
       "age                            0\n",
       "sex                            0\n",
       "chest_pain_type                0\n",
       "trestbps                       0\n",
       "cholesterol                    0\n",
       "fasting_blood_sugar_less120    0\n",
       "rest_ecg                       0\n",
       "max_hr                         0\n",
       "exercise_induced_angina        0\n",
       "oldpeak                        0\n",
       "slope                          0\n",
       "num_vessel_colored             0\n",
       "thal                           0\n",
       "class                          0\n",
       "dtype: int64"
      ]
     },
     "execution_count": 10,
     "metadata": {},
     "output_type": "execute_result"
    }
   ],
   "source": [
    "# see if there are any missing values\n",
    "cv_df.isnull().sum()"
   ]
  },
  {
   "cell_type": "code",
   "execution_count": 11,
   "metadata": {},
   "outputs": [
    {
     "data": {
      "text/plain": [
       "asympt    143\n",
       "notang     87\n",
       "abnang     50\n",
       "angina     23\n",
       "Name: chest_pain_type, dtype: int64"
      ]
     },
     "execution_count": 11,
     "metadata": {},
     "output_type": "execute_result"
    }
   ],
   "source": [
    "cv_df['chest_pain_type'].value_counts()"
   ]
  },
  {
   "cell_type": "markdown",
   "metadata": {},
   "source": [
    "# Visualize the data"
   ]
  },
  {
   "cell_type": "code",
   "execution_count": 14,
   "metadata": {},
   "outputs": [
    {
     "data": {
      "image/png": "[encoded data removed]",
      "text/plain": [
       "<Figure size 1800x360 with 1 Axes>"
      ]
     },
     "metadata": {
      "needs_background": "light"
     },
     "output_type": "display_data"
    }
   ],
   "source": [
    "sns.catplot(x='age', y='trestbps', data=cv_df, aspect=5) \n",
    "plt.ylabel('Resting Blood Pressure', fontsize=20) \n",
    "plt.xlabel('Age', fontsize=20) \n",
    "plt.show()"
   ]
  },
  {
   "cell_type": "markdown",
   "metadata": {},
   "source": [
    "Some resting blood pressures are seen to be considerably higher starting at age 52. "
   ]
  },
  {
   "cell_type": "code",
   "execution_count": 13,
   "metadata": {},
   "outputs": [
    {
     "data": {
      "image/png": "[encoded data removed]",
      "text/plain": [
       "<Figure size 432x288 with 1 Axes>"
      ]
     },
     "metadata": {
      "needs_background": "light"
     },
     "output_type": "display_data"
    }
   ],
   "source": [
    "age_restbp_group = cv_df.groupby(['age']).mean('trestbps').reset_index()\n",
    "sns.lineplot(x='age', y='trestbps', data=age_restbp_group)\n",
    "plt.xlabel('Age', fontsize=20)\n",
    "plt.ylabel('Average Resting Blood Pressure', fontsize=20)\n",
    "plt.show()"
   ]
  },
  {
   "cell_type": "markdown",
   "metadata": {},
   "source": [
    "General trend of increasing resting blood pressure with age. However, some of the younger and older ages have few datapoints so are not well representative of their age groups."
   ]
  },
  {
   "cell_type": "code",
   "execution_count": 15,
   "metadata": {},
   "outputs": [
    {
     "data": {
      "image/png": "[encoded data removed]",
      "text/plain": [
       "<Figure size 432x288 with 1 Axes>"
      ]
     },
     "metadata": {
      "needs_background": "light"
     },
     "output_type": "display_data"
    }
   ],
   "source": [
    "sns.scatterplot(x='trestbps', y='chest_pain_type', hue='class', data=cv_df)\n",
    "plt.xlabel('Resting Blood Pressure', fontsize=20)\n",
    "plt.ylabel('Chest Pain Type', fontsize=20)\n",
    "plt.show()"
   ]
  },
  {
   "cell_type": "markdown",
   "metadata": {},
   "source": [
    "There appears to be a significant number of asymptomatic patients who have heart disease (sick). This ranges across all resting blood pressures, although less than around 110 are all healthy. "
   ]
  },
  {
   "cell_type": "code",
   "execution_count": 17,
   "metadata": {},
   "outputs": [
    {
     "data": {
      "image/png": "[encoded data removed]",
      "text/plain": [
       "<Figure size 432x288 with 1 Axes>"
      ]
     },
     "metadata": {
      "needs_background": "light"
     },
     "output_type": "display_data"
    }
   ],
   "source": [
    "sns.scatterplot(x='trestbps', y='cholesterol', hue='class', data=cv_df)\n",
    "plt.xlabel('Resting Blood Pressure', fontsize=20)\n",
    "plt.ylabel('Cholesterol', fontsize=20)\n",
    "plt.show()"
   ]
  },
  {
   "cell_type": "code",
   "execution_count": 18,
   "metadata": {},
   "outputs": [
    {
     "data": {
      "image/png": "[encoded data removed]",
      "text/plain": [
       "<Figure size 432x288 with 1 Axes>"
      ]
     },
     "metadata": {
      "needs_background": "light"
     },
     "output_type": "display_data"
    }
   ],
   "source": [
    "sns.scatterplot(x='trestbps', y='rest_ecg', hue='class', data=cv_df)\n",
    "plt.xlabel('Resting Blood Pressure', fontsize=20)\n",
    "plt.ylabel('Resting ECG', fontsize=20)\n",
    "plt.show()"
   ]
  },
  {
   "cell_type": "markdown",
   "metadata": {},
   "source": [
    "Vast majority of patients with hyp resting ECG have heart disease while majority of normal ECG are healthy."
   ]
  },
  {
   "cell_type": "code",
   "execution_count": 45,
   "metadata": {},
   "outputs": [
    {
     "data": {
      "image/png": "[encoded data removed]",
      "text/plain": [
       "<Figure size 432x288 with 1 Axes>"
      ]
     },
     "metadata": {
      "needs_background": "light"
     },
     "output_type": "display_data"
    }
   ],
   "source": [
    "sns.scatterplot(x='age', y='fasting_blood_sugar_less120', hue='class', data=cv_df)\n",
    "plt.xlabel('Age', fontsize=20)\n",
    "plt.ylabel('Fasting Blood Sugar Less Than 120', fontsize=20)\n",
    "plt.show()"
   ]
  },
  {
   "cell_type": "markdown",
   "metadata": {},
   "source": [
    "# Transform and preprocess dataset"
   ]
  },
  {
   "cell_type": "markdown",
   "metadata": {},
   "source": [
    "Fortunately, this dataset already provides a processed version where all data is converted to numerical for easy model traning."
   ]
  },
  {
   "cell_type": "code",
   "execution_count": 56,
   "metadata": {},
   "outputs": [],
   "source": [
    "proc_df = pd.read_csv('/media/veracrypt3/Cloud/Datasets/processed.cleveland.data',\n",
    "                     header=None,\n",
    "                     names=[\n",
    "                         'age',\n",
    "                         'sex',\n",
    "                         'chest_pain_type',\n",
    "                         'trestbps',\n",
    "                         'cholesterol',\n",
    "                         'fasting_blood_sugar_less120',\n",
    "                         'rest_ecg',\n",
    "                         'max_hr',\n",
    "                         'exercise_induced_angina',\n",
    "                         'oldpeak',\n",
    "                         'slope',\n",
    "                         'num_vessel_colored',\n",
    "                         'thal',\n",
    "                         'class',\n",
    "                     ])"
   ]
  },
  {
   "cell_type": "code",
   "execution_count": 57,
   "metadata": {},
   "outputs": [
    {
     "data": {
      "text/html": [
       "<div>\n",
       "<style scoped>\n",
       "    .dataframe tbody tr th:only-of-type {\n",
       "        vertical-align: middle;\n",
       "    }\n",
       "\n",
       "    .dataframe tbody tr th {\n",
       "        vertical-align: top;\n",
       "    }\n",
       "\n",
       "    .dataframe thead th {\n",
       "        text-align: right;\n",
       "    }\n",
       "</style>\n",
       "<table border=\"1\" class=\"dataframe\">\n",
       "  <thead>\n",
       "    <tr style=\"text-align: right;\">\n",
       "      <th></th>\n",
       "      <th>age</th>\n",
       "      <th>sex</th>\n",
       "      <th>chest_pain_type</th>\n",
       "      <th>trestbps</th>\n",
       "      <th>cholesterol</th>\n",
       "      <th>fasting_blood_sugar_less120</th>\n",
       "      <th>rest_ecg</th>\n",
       "      <th>max_hr</th>\n",
       "      <th>exercise_induced_angina</th>\n",
       "      <th>oldpeak</th>\n",
       "      <th>slope</th>\n",
       "      <th>num_vessel_colored</th>\n",
       "      <th>thal</th>\n",
       "      <th>class</th>\n",
       "    </tr>\n",
       "  </thead>\n",
       "  <tbody>\n",
       "    <tr>\n",
       "      <th>0</th>\n",
       "      <td>63.0</td>\n",
       "      <td>1.0</td>\n",
       "      <td>1.0</td>\n",
       "      <td>145.0</td>\n",
       "      <td>233.0</td>\n",
       "      <td>1.0</td>\n",
       "      <td>2.0</td>\n",
       "      <td>150.0</td>\n",
       "      <td>0.0</td>\n",
       "      <td>2.3</td>\n",
       "      <td>3.0</td>\n",
       "      <td>0.0</td>\n",
       "      <td>6.0</td>\n",
       "      <td>0</td>\n",
       "    </tr>\n",
       "    <tr>\n",
       "      <th>1</th>\n",
       "      <td>67.0</td>\n",
       "      <td>1.0</td>\n",
       "      <td>4.0</td>\n",
       "      <td>160.0</td>\n",
       "      <td>286.0</td>\n",
       "      <td>0.0</td>\n",
       "      <td>2.0</td>\n",
       "      <td>108.0</td>\n",
       "      <td>1.0</td>\n",
       "      <td>1.5</td>\n",
       "      <td>2.0</td>\n",
       "      <td>3.0</td>\n",
       "      <td>3.0</td>\n",
       "      <td>2</td>\n",
       "    </tr>\n",
       "    <tr>\n",
       "      <th>2</th>\n",
       "      <td>67.0</td>\n",
       "      <td>1.0</td>\n",
       "      <td>4.0</td>\n",
       "      <td>120.0</td>\n",
       "      <td>229.0</td>\n",
       "      <td>0.0</td>\n",
       "      <td>2.0</td>\n",
       "      <td>129.0</td>\n",
       "      <td>1.0</td>\n",
       "      <td>2.6</td>\n",
       "      <td>2.0</td>\n",
       "      <td>2.0</td>\n",
       "      <td>7.0</td>\n",
       "      <td>1</td>\n",
       "    </tr>\n",
       "    <tr>\n",
       "      <th>3</th>\n",
       "      <td>37.0</td>\n",
       "      <td>1.0</td>\n",
       "      <td>3.0</td>\n",
       "      <td>130.0</td>\n",
       "      <td>250.0</td>\n",
       "      <td>0.0</td>\n",
       "      <td>0.0</td>\n",
       "      <td>187.0</td>\n",
       "      <td>0.0</td>\n",
       "      <td>3.5</td>\n",
       "      <td>3.0</td>\n",
       "      <td>0.0</td>\n",
       "      <td>3.0</td>\n",
       "      <td>0</td>\n",
       "    </tr>\n",
       "    <tr>\n",
       "      <th>4</th>\n",
       "      <td>41.0</td>\n",
       "      <td>0.0</td>\n",
       "      <td>2.0</td>\n",
       "      <td>130.0</td>\n",
       "      <td>204.0</td>\n",
       "      <td>0.0</td>\n",
       "      <td>2.0</td>\n",
       "      <td>172.0</td>\n",
       "      <td>0.0</td>\n",
       "      <td>1.4</td>\n",
       "      <td>1.0</td>\n",
       "      <td>0.0</td>\n",
       "      <td>3.0</td>\n",
       "      <td>0</td>\n",
       "    </tr>\n",
       "  </tbody>\n",
       "</table>\n",
       "</div>"
      ],
      "text/plain": [
       "    age  sex  chest_pain_type  trestbps  cholesterol  \\\n",
       "0  63.0  1.0              1.0     145.0        233.0   \n",
       "1  67.0  1.0              4.0     160.0        286.0   \n",
       "2  67.0  1.0              4.0     120.0        229.0   \n",
       "3  37.0  1.0              3.0     130.0        250.0   \n",
       "4  41.0  0.0              2.0     130.0        204.0   \n",
       "\n",
       "   fasting_blood_sugar_less120  rest_ecg  max_hr  exercise_induced_angina  \\\n",
       "0                          1.0       2.0   150.0                      0.0   \n",
       "1                          0.0       2.0   108.0                      1.0   \n",
       "2                          0.0       2.0   129.0                      1.0   \n",
       "3                          0.0       0.0   187.0                      0.0   \n",
       "4                          0.0       2.0   172.0                      0.0   \n",
       "\n",
       "   oldpeak  slope num_vessel_colored thal  class  \n",
       "0      2.3    3.0                0.0  6.0      0  \n",
       "1      1.5    2.0                3.0  3.0      2  \n",
       "2      2.6    2.0                2.0  7.0      1  \n",
       "3      3.5    3.0                0.0  3.0      0  \n",
       "4      1.4    1.0                0.0  3.0      0  "
      ]
     },
     "execution_count": 57,
     "metadata": {},
     "output_type": "execute_result"
    }
   ],
   "source": [
    "proc_df.head()"
   ]
  },
  {
   "cell_type": "code",
   "execution_count": 58,
   "metadata": {},
   "outputs": [
    {
     "data": {
      "text/plain": [
       "(303, 14)"
      ]
     },
     "execution_count": 58,
     "metadata": {},
     "output_type": "execute_result"
    }
   ],
   "source": [
    "proc_df.shape  # should be same shape as previous dataset"
   ]
  },
  {
   "cell_type": "code",
   "execution_count": 59,
   "metadata": {},
   "outputs": [
    {
     "data": {
      "text/plain": [
       "age                            0\n",
       "sex                            0\n",
       "chest_pain_type                0\n",
       "trestbps                       0\n",
       "cholesterol                    0\n",
       "fasting_blood_sugar_less120    0\n",
       "rest_ecg                       0\n",
       "max_hr                         0\n",
       "exercise_induced_angina        0\n",
       "oldpeak                        0\n",
       "slope                          0\n",
       "num_vessel_colored             0\n",
       "thal                           0\n",
       "class                          0\n",
       "dtype: int64"
      ]
     },
     "execution_count": 59,
     "metadata": {},
     "output_type": "execute_result"
    }
   ],
   "source": [
    "# check for missing values\n",
    "proc_df.isnull().sum()"
   ]
  },
  {
   "cell_type": "code",
   "execution_count": 60,
   "metadata": {},
   "outputs": [
    {
     "data": {
      "text/plain": [
       "age                            float64\n",
       "sex                            float64\n",
       "chest_pain_type                float64\n",
       "trestbps                       float64\n",
       "cholesterol                    float64\n",
       "fasting_blood_sugar_less120    float64\n",
       "rest_ecg                       float64\n",
       "max_hr                         float64\n",
       "exercise_induced_angina        float64\n",
       "oldpeak                        float64\n",
       "slope                          float64\n",
       "num_vessel_colored              object\n",
       "thal                            object\n",
       "class                            int64\n",
       "dtype: object"
      ]
     },
     "execution_count": 60,
     "metadata": {},
     "output_type": "execute_result"
    }
   ],
   "source": [
    "# check if float or int\n",
    "proc_df.dtypes"
   ]
  },
  {
   "cell_type": "code",
   "execution_count": 61,
   "metadata": {},
   "outputs": [
    {
     "data": {
      "text/html": [
       "<div>\n",
       "<style scoped>\n",
       "    .dataframe tbody tr th:only-of-type {\n",
       "        vertical-align: middle;\n",
       "    }\n",
       "\n",
       "    .dataframe tbody tr th {\n",
       "        vertical-align: top;\n",
       "    }\n",
       "\n",
       "    .dataframe thead th {\n",
       "        text-align: right;\n",
       "    }\n",
       "</style>\n",
       "<table border=\"1\" class=\"dataframe\">\n",
       "  <thead>\n",
       "    <tr style=\"text-align: right;\">\n",
       "      <th></th>\n",
       "      <th>age</th>\n",
       "      <th>sex</th>\n",
       "      <th>chest_pain_type</th>\n",
       "      <th>trestbps</th>\n",
       "      <th>cholesterol</th>\n",
       "      <th>fasting_blood_sugar_less120</th>\n",
       "      <th>rest_ecg</th>\n",
       "      <th>max_hr</th>\n",
       "      <th>exercise_induced_angina</th>\n",
       "      <th>oldpeak</th>\n",
       "      <th>slope</th>\n",
       "      <th>class</th>\n",
       "    </tr>\n",
       "  </thead>\n",
       "  <tbody>\n",
       "    <tr>\n",
       "      <th>0</th>\n",
       "      <td>63.0</td>\n",
       "      <td>1.0</td>\n",
       "      <td>1.0</td>\n",
       "      <td>145.0</td>\n",
       "      <td>233.0</td>\n",
       "      <td>1.0</td>\n",
       "      <td>2.0</td>\n",
       "      <td>150.0</td>\n",
       "      <td>0.0</td>\n",
       "      <td>2.3</td>\n",
       "      <td>3.0</td>\n",
       "      <td>0</td>\n",
       "    </tr>\n",
       "    <tr>\n",
       "      <th>1</th>\n",
       "      <td>67.0</td>\n",
       "      <td>1.0</td>\n",
       "      <td>4.0</td>\n",
       "      <td>160.0</td>\n",
       "      <td>286.0</td>\n",
       "      <td>0.0</td>\n",
       "      <td>2.0</td>\n",
       "      <td>108.0</td>\n",
       "      <td>1.0</td>\n",
       "      <td>1.5</td>\n",
       "      <td>2.0</td>\n",
       "      <td>2</td>\n",
       "    </tr>\n",
       "    <tr>\n",
       "      <th>2</th>\n",
       "      <td>67.0</td>\n",
       "      <td>1.0</td>\n",
       "      <td>4.0</td>\n",
       "      <td>120.0</td>\n",
       "      <td>229.0</td>\n",
       "      <td>0.0</td>\n",
       "      <td>2.0</td>\n",
       "      <td>129.0</td>\n",
       "      <td>1.0</td>\n",
       "      <td>2.6</td>\n",
       "      <td>2.0</td>\n",
       "      <td>1</td>\n",
       "    </tr>\n",
       "    <tr>\n",
       "      <th>3</th>\n",
       "      <td>37.0</td>\n",
       "      <td>1.0</td>\n",
       "      <td>3.0</td>\n",
       "      <td>130.0</td>\n",
       "      <td>250.0</td>\n",
       "      <td>0.0</td>\n",
       "      <td>0.0</td>\n",
       "      <td>187.0</td>\n",
       "      <td>0.0</td>\n",
       "      <td>3.5</td>\n",
       "      <td>3.0</td>\n",
       "      <td>0</td>\n",
       "    </tr>\n",
       "    <tr>\n",
       "      <th>4</th>\n",
       "      <td>41.0</td>\n",
       "      <td>0.0</td>\n",
       "      <td>2.0</td>\n",
       "      <td>130.0</td>\n",
       "      <td>204.0</td>\n",
       "      <td>0.0</td>\n",
       "      <td>2.0</td>\n",
       "      <td>172.0</td>\n",
       "      <td>0.0</td>\n",
       "      <td>1.4</td>\n",
       "      <td>1.0</td>\n",
       "      <td>0</td>\n",
       "    </tr>\n",
       "  </tbody>\n",
       "</table>\n",
       "</div>"
      ],
      "text/plain": [
       "    age  sex  chest_pain_type  trestbps  cholesterol  \\\n",
       "0  63.0  1.0              1.0     145.0        233.0   \n",
       "1  67.0  1.0              4.0     160.0        286.0   \n",
       "2  67.0  1.0              4.0     120.0        229.0   \n",
       "3  37.0  1.0              3.0     130.0        250.0   \n",
       "4  41.0  0.0              2.0     130.0        204.0   \n",
       "\n",
       "   fasting_blood_sugar_less120  rest_ecg  max_hr  exercise_induced_angina  \\\n",
       "0                          1.0       2.0   150.0                      0.0   \n",
       "1                          0.0       2.0   108.0                      1.0   \n",
       "2                          0.0       2.0   129.0                      1.0   \n",
       "3                          0.0       0.0   187.0                      0.0   \n",
       "4                          0.0       2.0   172.0                      0.0   \n",
       "\n",
       "   oldpeak  slope  class  \n",
       "0      2.3    3.0      0  \n",
       "1      1.5    2.0      2  \n",
       "2      2.6    2.0      1  \n",
       "3      3.5    3.0      0  \n",
       "4      1.4    1.0      0  "
      ]
     },
     "execution_count": 61,
     "metadata": {},
     "output_type": "execute_result"
    }
   ],
   "source": [
    "# The column num_vessel_colored has a ? in some rows, so those rows need to be dealt with. We'll just drop them for now.\n",
    "proc_df.drop(['num_vessel_colored', 'thal'], axis=1, inplace=True)\n",
    "\n",
    "proc_df.head()"
   ]
  },
  {
   "cell_type": "code",
   "execution_count": 62,
   "metadata": {},
   "outputs": [
    {
     "data": {
      "text/plain": [
       "array([[ 63. ,   1. ,   1. , 145. , 233. ,   1. ,   2. , 150. ,   0. ,\n",
       "          2.3,   3. ],\n",
       "       [ 67. ,   1. ,   4. , 160. , 286. ,   0. ,   2. , 108. ,   1. ,\n",
       "          1.5,   2. ],\n",
       "       [ 67. ,   1. ,   4. , 120. , 229. ,   0. ,   2. , 129. ,   1. ,\n",
       "          2.6,   2. ],\n",
       "       [ 37. ,   1. ,   3. , 130. , 250. ,   0. ,   0. , 187. ,   0. ,\n",
       "          3.5,   3. ],\n",
       "       [ 41. ,   0. ,   2. , 130. , 204. ,   0. ,   2. , 172. ,   0. ,\n",
       "          1.4,   1. ]])"
      ]
     },
     "execution_count": 62,
     "metadata": {},
     "output_type": "execute_result"
    }
   ],
   "source": [
    "X = np.asarray(proc_df.loc[:, proc_df.columns != 'class'])  # select all columns except 'class'\n",
    "X[0:5]"
   ]
  },
  {
   "cell_type": "code",
   "execution_count": 63,
   "metadata": {},
   "outputs": [
    {
     "data": {
      "text/plain": [
       "array([0, 2, 1, 0, 0])"
      ]
     },
     "execution_count": 63,
     "metadata": {},
     "output_type": "execute_result"
    }
   ],
   "source": [
    "Y = np.asarray(proc_df['class'])\n",
    "Y[0:5]"
   ]
  },
  {
   "cell_type": "code",
   "execution_count": 64,
   "metadata": {},
   "outputs": [
    {
     "data": {
      "text/plain": [
       "array([[ 0.94872647,  0.68620244, -2.25177456,  0.75752504, -0.2649003 ,\n",
       "         2.394438  ,  1.01668424,  0.01719733, -0.69663055,  1.08733806,\n",
       "         2.27457861],\n",
       "       [ 1.39200191,  0.68620244,  0.87798549,  1.61121989,  0.76041519,\n",
       "        -0.41763453,  1.01668424, -1.82190531,  1.43548113,  0.39718162,\n",
       "         0.64911323],\n",
       "       [ 1.39200191,  0.68620244,  0.87798549, -0.6652997 , -0.34228261,\n",
       "        -0.41763453,  1.01668424, -0.90235399,  1.43548113,  1.34614673,\n",
       "         0.64911323],\n",
       "       [-1.93256387,  0.68620244, -0.16526786, -0.0961698 ,  0.06397448,\n",
       "        -0.41763453, -0.99674925,  1.63735918, -0.69663055,  2.12257273,\n",
       "         2.27457861],\n",
       "       [-1.48928843, -1.4572959 , -1.20852121, -0.0961698 , -0.82592199,\n",
       "        -0.41763453,  1.01668424,  0.98053681, -0.69663055,  0.31091206,\n",
       "        -0.97635214]])"
      ]
     },
     "execution_count": 64,
     "metadata": {},
     "output_type": "execute_result"
    }
   ],
   "source": [
    "X = preprocessing.StandardScaler().fit(X).transform(X)\n",
    "X[0:5]"
   ]
  },
  {
   "cell_type": "markdown",
   "metadata": {},
   "source": [
    "# Train/test split dataset"
   ]
  },
  {
   "cell_type": "code",
   "execution_count": 65,
   "metadata": {},
   "outputs": [
    {
     "name": "stdout",
     "output_type": "stream",
     "text": [
      "Train set: (242, 11) (242,)\n",
      "Test set: (61, 11) (61,)\n"
     ]
    }
   ],
   "source": [
    "X_train, X_test, Y_train, Y_test = train_test_split(X, Y, test_size=0.2, random_state=4)\n",
    "print ('Train set:', X_train.shape,  Y_train.shape)\n",
    "print ('Test set:', X_test.shape,  Y_test.shape)"
   ]
  },
  {
   "cell_type": "markdown",
   "metadata": {},
   "source": [
    "# Model training (Logistic Regression)"
   ]
  },
  {
   "cell_type": "code",
   "execution_count": 66,
   "metadata": {},
   "outputs": [],
   "source": [
    "LR = LogisticRegression(C=0.1, solver='liblinear').fit(X_train, Y_train)"
   ]
  },
  {
   "cell_type": "code",
   "execution_count": 67,
   "metadata": {},
   "outputs": [
    {
     "data": {
      "text/plain": [
       "array([3, 0, 0, 0, 2, 1, 0, 0, 0, 1, 0, 1, 4, 1, 0, 1, 1, 0, 0, 0, 0, 0,\n",
       "       0, 0, 0, 0, 0, 0, 0, 3, 3, 0, 2, 0, 1, 0, 0, 0, 0, 0, 0, 0, 0, 0,\n",
       "       1, 2, 0, 0, 0, 0, 0, 1, 0, 4, 0, 0, 0, 1, 0, 0, 0])"
      ]
     },
     "execution_count": 67,
     "metadata": {},
     "output_type": "execute_result"
    }
   ],
   "source": [
    "yhat = LR.predict(X_test)\n",
    "yhat"
   ]
  },
  {
   "cell_type": "code",
   "execution_count": 68,
   "metadata": {},
   "outputs": [
    {
     "data": {
      "text/plain": [
       "array([[0.14029998, 0.10718894, 0.28182709, 0.35586987, 0.11481412],\n",
       "       [0.59471986, 0.12042202, 0.08681988, 0.13798375, 0.06005448],\n",
       "       [0.6732349 , 0.10030533, 0.08839888, 0.084283  , 0.05377789],\n",
       "       [0.71082251, 0.07961159, 0.07713362, 0.08444548, 0.04798681],\n",
       "       [0.11143569, 0.08370883, 0.3240538 , 0.31938718, 0.1614145 ],\n",
       "       [0.09958536, 0.30708134, 0.19934151, 0.25865829, 0.1353335 ],\n",
       "       [0.46359313, 0.16058531, 0.16935291, 0.12544877, 0.08101988],\n",
       "       [0.64612046, 0.07516501, 0.1186212 , 0.07636612, 0.08372721],\n",
       "       [0.68471899, 0.14968288, 0.06485991, 0.05119628, 0.04954195],\n",
       "       [0.06371115, 0.29092624, 0.23328179, 0.25721   , 0.15487082],\n",
       "       [0.66804269, 0.09265599, 0.07065517, 0.10070169, 0.06794445],\n",
       "       [0.10657647, 0.27739037, 0.2287773 , 0.24871108, 0.13854478],\n",
       "       [0.24074862, 0.12880781, 0.22364975, 0.15782195, 0.24897187],\n",
       "       [0.16609626, 0.41950233, 0.14866522, 0.16231489, 0.1034213 ],\n",
       "       [0.69754814, 0.05247114, 0.10791213, 0.09057735, 0.05149124],\n",
       "       [0.09639642, 0.33482234, 0.28070155, 0.1628549 , 0.12522479],\n",
       "       [0.10114377, 0.27258392, 0.18837284, 0.26473697, 0.17316249],\n",
       "       [0.37310446, 0.19725329, 0.15718195, 0.11639794, 0.15606236],\n",
       "       [0.73513415, 0.09147965, 0.06475079, 0.04806138, 0.06057404],\n",
       "       [0.58033407, 0.22746067, 0.03839712, 0.05781625, 0.09599189],\n",
       "       [0.42798406, 0.27967802, 0.11449776, 0.07690966, 0.1009305 ],\n",
       "       [0.55551398, 0.14403375, 0.08872409, 0.13877794, 0.07295024],\n",
       "       [0.53818786, 0.11635003, 0.13746001, 0.11929716, 0.08870494],\n",
       "       [0.40787927, 0.13950901, 0.25030946, 0.05111818, 0.15118409],\n",
       "       [0.61276284, 0.09375869, 0.11376948, 0.09104147, 0.08866752],\n",
       "       [0.46208105, 0.16922668, 0.1547454 , 0.12179578, 0.09215109],\n",
       "       [0.62984849, 0.1289884 , 0.09830116, 0.08240823, 0.06045371],\n",
       "       [0.52124694, 0.11017193, 0.10428444, 0.19276054, 0.07153616],\n",
       "       [0.37058323, 0.17074088, 0.19614794, 0.13077794, 0.13175001],\n",
       "       [0.11343972, 0.21729398, 0.25534929, 0.27400618, 0.13991083],\n",
       "       [0.02839618, 0.26101213, 0.28243432, 0.28322514, 0.14493223],\n",
       "       [0.39119035, 0.22376414, 0.16504361, 0.10276368, 0.11723822],\n",
       "       [0.00849226, 0.1365618 , 0.33872742, 0.33576092, 0.18045761],\n",
       "       [0.48108196, 0.18127166, 0.08939046, 0.13379173, 0.11446419],\n",
       "       [0.14318738, 0.38219507, 0.17665138, 0.21087584, 0.08709033],\n",
       "       [0.69169502, 0.14597841, 0.0585753 , 0.05585653, 0.04789474],\n",
       "       [0.51954273, 0.1681106 , 0.11865917, 0.13402023, 0.05966727],\n",
       "       [0.44086164, 0.08963465, 0.16826449, 0.21238474, 0.08885448],\n",
       "       [0.37616165, 0.20402345, 0.15420557, 0.16027989, 0.10532945],\n",
       "       [0.7201477 , 0.13785421, 0.04376663, 0.05290895, 0.04532251],\n",
       "       [0.65261344, 0.1651456 , 0.06230694, 0.07012874, 0.04980529],\n",
       "       [0.69287144, 0.11396662, 0.06712277, 0.06158289, 0.06445627],\n",
       "       [0.49106151, 0.11159859, 0.14672101, 0.12792066, 0.12269823],\n",
       "       [0.65001487, 0.1496469 , 0.09221859, 0.04776848, 0.06035116],\n",
       "       [0.01491822, 0.26915169, 0.25958202, 0.24332941, 0.21301867],\n",
       "       [0.05532186, 0.24995484, 0.29585235, 0.21356848, 0.18530248],\n",
       "       [0.4613215 , 0.21773765, 0.12150302, 0.10601567, 0.09342217],\n",
       "       [0.66381077, 0.15785294, 0.07270474, 0.05769117, 0.04794037],\n",
       "       [0.4911995 , 0.2068768 , 0.12301363, 0.11628812, 0.06262195],\n",
       "       [0.70132758, 0.16463082, 0.03408522, 0.03267787, 0.06727852],\n",
       "       [0.41480723, 0.11945758, 0.24612083, 0.10411966, 0.11549469],\n",
       "       [0.02860185, 0.32469055, 0.23732627, 0.25999846, 0.14938287],\n",
       "       [0.7195624 , 0.16640017, 0.02391439, 0.04943752, 0.04068553],\n",
       "       [0.07583516, 0.08186673, 0.2406042 , 0.30009176, 0.30160214],\n",
       "       [0.25162874, 0.21732436, 0.19316639, 0.24535327, 0.09252724],\n",
       "       [0.60388947, 0.09404119, 0.10460278, 0.09513464, 0.10233193],\n",
       "       [0.23018372, 0.21831905, 0.22305009, 0.21778325, 0.11066388],\n",
       "       [0.34169409, 0.35188388, 0.10537584, 0.10629728, 0.0947489 ],\n",
       "       [0.55079172, 0.19843663, 0.10268002, 0.08992624, 0.05816539],\n",
       "       [0.37444036, 0.29614554, 0.11785895, 0.09688253, 0.11467262],\n",
       "       [0.63613278, 0.11227049, 0.07760951, 0.07266329, 0.10132393]])"
      ]
     },
     "execution_count": 68,
     "metadata": {},
     "output_type": "execute_result"
    }
   ],
   "source": [
    "yhat_prob = LR.predict_proba(X_test)\n",
    "yhat_prob"
   ]
  },
  {
   "cell_type": "markdown",
   "metadata": {},
   "source": [
    "# Evaluation"
   ]
  },
  {
   "cell_type": "code",
   "execution_count": 74,
   "metadata": {},
   "outputs": [
    {
     "name": "stdout",
     "output_type": "stream",
     "text": [
      "              precision    recall  f1-score   support\n",
      "\n",
      "           0       0.70      0.94      0.80        32\n",
      "           1       0.10      0.09      0.10        11\n",
      "           2       0.33      0.14      0.20         7\n",
      "           3       0.33      0.12      0.18         8\n",
      "           4       0.00      0.00      0.00         3\n",
      "\n",
      "    accuracy                           0.54        61\n",
      "   macro avg       0.29      0.26      0.26        61\n",
      "weighted avg       0.47      0.54      0.48        61\n",
      "\n"
     ]
    }
   ],
   "source": [
    "print(classification_report(Y_test, yhat))"
   ]
  }
 ],
 "metadata": {
  "kernelspec": {
   "display_name": "deep-learning3",
   "language": "python",
   "name": "deep-learning3"
  },
  "language_info": {
   "codemirror_mode": {
    "name": "ipython",
    "version": 3
   },
   "file_extension": ".py",
   "mimetype": "text/x-python",
   "name": "python",
   "nbconvert_exporter": "python",
   "pygments_lexer": "ipython3",
   "version": "3.8.8"
  }
 },
 "nbformat": 4,
 "nbformat_minor": 4
}
