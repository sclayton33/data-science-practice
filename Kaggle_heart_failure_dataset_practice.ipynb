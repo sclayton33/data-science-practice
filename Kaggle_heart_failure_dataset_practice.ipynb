{
 "cells": [
  {
   "cell_type": "markdown",
   "metadata": {},
   "source": [
    "# Kaggle heart failure prediction dataset practice\n",
    "\n",
    "This dataset is an expanded version of the commonly used Cleveland dataset found on the UCI machine learning repository website. [The dataset can be found here.](https://www.kaggle.com/fedesoriano/heart-failure-prediction)\n",
    "\n",
    "Attribute Information:\n",
    "\n",
    "    Age: age of the patient [years]\n",
    "    Sex: sex of the patient [M: Male, F: Female]\n",
    "    ChestPainType: chest pain type [TA: Typical Angina, ATA: Atypical Angina, NAP: Non-Anginal Pain, ASY: Asymptomatic]\n",
    "    RestingBP: resting blood pressure [mm Hg]\n",
    "    Cholesterol: serum cholesterol [mm/dl]\n",
    "    FastingBS: fasting blood sugar [1: if FastingBS > 120 mg/dl, 0: otherwise]\n",
    "    RestingECG: resting electrocardiogram results [Normal: Normal, ST: having ST-T wave abnormality (T wave inversions and/or ST elevation or depression of > 0.05 mV), LVH: showing probable or definite left ventricular hypertrophy by Estes' criteria]\n",
    "    MaxHR: maximum heart rate achieved [Numeric value between 60 and 202]\n",
    "    ExerciseAngina: exercise-induced angina [Y: Yes, N: No]\n",
    "    Oldpeak: oldpeak = ST [Numeric value measured in depression]\n",
    "    ST_Slope: the slope of the peak exercise ST segment [Up: upsloping, Flat: flat, Down: downsloping]\n",
    "    HeartDisease: output class [1: heart disease, 0: Normal]\n"
   ]
  },
  {
   "cell_type": "markdown",
   "metadata": {},
   "source": [
    "# Import dataset, preview, clean"
   ]
  },
  {
   "cell_type": "code",
   "execution_count": 1,
   "metadata": {},
   "outputs": [],
   "source": [
    "import pandas as pd\n",
    "import numpy as np\n",
    "from sklearn import preprocessing\n",
    "from sklearn.model_selection import train_test_split\n",
    "from sklearn.linear_model import LogisticRegression\n",
    "from sklearn.metrics import classification_report\n",
    "import matplotlib.pyplot as plt\n",
    "import seaborn as sns"
   ]
  },
  {
   "cell_type": "code",
   "execution_count": 2,
   "metadata": {},
   "outputs": [],
   "source": [
    "# dislpay full column widths and all columns\n",
    "pd.set_option('display.max_columns', None)\n",
    "pd.set_option('display.max_rows', None)\n",
    "pd.set_option('display.max_colwidth', None)"
   ]
  },
  {
   "cell_type": "code",
   "execution_count": 3,
   "metadata": {},
   "outputs": [],
   "source": [
    "cv_df = pd.read_csv('/media/veracrypt3/Cloud/Datasets/Kaggle/heart.csv')"
   ]
  },
  {
   "cell_type": "code",
   "execution_count": 4,
   "metadata": {},
   "outputs": [
    {
     "data": {
      "text/html": [
       "<div>\n",
       "<style scoped>\n",
       "    .dataframe tbody tr th:only-of-type {\n",
       "        vertical-align: middle;\n",
       "    }\n",
       "\n",
       "    .dataframe tbody tr th {\n",
       "        vertical-align: top;\n",
       "    }\n",
       "\n",
       "    .dataframe thead th {\n",
       "        text-align: right;\n",
       "    }\n",
       "</style>\n",
       "<table border=\"1\" class=\"dataframe\">\n",
       "  <thead>\n",
       "    <tr style=\"text-align: right;\">\n",
       "      <th></th>\n",
       "      <th>Age</th>\n",
       "      <th>Sex</th>\n",
       "      <th>ChestPainType</th>\n",
       "      <th>RestingBP</th>\n",
       "      <th>Cholesterol</th>\n",
       "      <th>FastingBS</th>\n",
       "      <th>RestingECG</th>\n",
       "      <th>MaxHR</th>\n",
       "      <th>ExerciseAngina</th>\n",
       "      <th>Oldpeak</th>\n",
       "      <th>ST_Slope</th>\n",
       "      <th>HeartDisease</th>\n",
       "    </tr>\n",
       "  </thead>\n",
       "  <tbody>\n",
       "    <tr>\n",
       "      <th>0</th>\n",
       "      <td>40</td>\n",
       "      <td>M</td>\n",
       "      <td>ATA</td>\n",
       "      <td>140</td>\n",
       "      <td>289</td>\n",
       "      <td>0</td>\n",
       "      <td>Normal</td>\n",
       "      <td>172</td>\n",
       "      <td>N</td>\n",
       "      <td>0.0</td>\n",
       "      <td>Up</td>\n",
       "      <td>0</td>\n",
       "    </tr>\n",
       "    <tr>\n",
       "      <th>1</th>\n",
       "      <td>49</td>\n",
       "      <td>F</td>\n",
       "      <td>NAP</td>\n",
       "      <td>160</td>\n",
       "      <td>180</td>\n",
       "      <td>0</td>\n",
       "      <td>Normal</td>\n",
       "      <td>156</td>\n",
       "      <td>N</td>\n",
       "      <td>1.0</td>\n",
       "      <td>Flat</td>\n",
       "      <td>1</td>\n",
       "    </tr>\n",
       "    <tr>\n",
       "      <th>2</th>\n",
       "      <td>37</td>\n",
       "      <td>M</td>\n",
       "      <td>ATA</td>\n",
       "      <td>130</td>\n",
       "      <td>283</td>\n",
       "      <td>0</td>\n",
       "      <td>ST</td>\n",
       "      <td>98</td>\n",
       "      <td>N</td>\n",
       "      <td>0.0</td>\n",
       "      <td>Up</td>\n",
       "      <td>0</td>\n",
       "    </tr>\n",
       "    <tr>\n",
       "      <th>3</th>\n",
       "      <td>48</td>\n",
       "      <td>F</td>\n",
       "      <td>ASY</td>\n",
       "      <td>138</td>\n",
       "      <td>214</td>\n",
       "      <td>0</td>\n",
       "      <td>Normal</td>\n",
       "      <td>108</td>\n",
       "      <td>Y</td>\n",
       "      <td>1.5</td>\n",
       "      <td>Flat</td>\n",
       "      <td>1</td>\n",
       "    </tr>\n",
       "    <tr>\n",
       "      <th>4</th>\n",
       "      <td>54</td>\n",
       "      <td>M</td>\n",
       "      <td>NAP</td>\n",
       "      <td>150</td>\n",
       "      <td>195</td>\n",
       "      <td>0</td>\n",
       "      <td>Normal</td>\n",
       "      <td>122</td>\n",
       "      <td>N</td>\n",
       "      <td>0.0</td>\n",
       "      <td>Up</td>\n",
       "      <td>0</td>\n",
       "    </tr>\n",
       "  </tbody>\n",
       "</table>\n",
       "</div>"
      ],
      "text/plain": [
       "   Age Sex ChestPainType  RestingBP  Cholesterol  FastingBS RestingECG  MaxHR  \\\n",
       "0   40   M           ATA        140          289          0     Normal    172   \n",
       "1   49   F           NAP        160          180          0     Normal    156   \n",
       "2   37   M           ATA        130          283          0         ST     98   \n",
       "3   48   F           ASY        138          214          0     Normal    108   \n",
       "4   54   M           NAP        150          195          0     Normal    122   \n",
       "\n",
       "  ExerciseAngina  Oldpeak ST_Slope  HeartDisease  \n",
       "0              N      0.0       Up             0  \n",
       "1              N      1.0     Flat             1  \n",
       "2              N      0.0       Up             0  \n",
       "3              Y      1.5     Flat             1  \n",
       "4              N      0.0       Up             0  "
      ]
     },
     "execution_count": 4,
     "metadata": {},
     "output_type": "execute_result"
    }
   ],
   "source": [
    "cv_df.head()"
   ]
  },
  {
   "cell_type": "code",
   "execution_count": 5,
   "metadata": {},
   "outputs": [
    {
     "data": {
      "text/plain": [
       "(918, 12)"
      ]
     },
     "execution_count": 5,
     "metadata": {},
     "output_type": "execute_result"
    }
   ],
   "source": [
    "cv_df.shape"
   ]
  },
  {
   "cell_type": "code",
   "execution_count": 6,
   "metadata": {},
   "outputs": [
    {
     "data": {
      "text/html": [
       "<div>\n",
       "<style scoped>\n",
       "    .dataframe tbody tr th:only-of-type {\n",
       "        vertical-align: middle;\n",
       "    }\n",
       "\n",
       "    .dataframe tbody tr th {\n",
       "        vertical-align: top;\n",
       "    }\n",
       "\n",
       "    .dataframe thead th {\n",
       "        text-align: right;\n",
       "    }\n",
       "</style>\n",
       "<table border=\"1\" class=\"dataframe\">\n",
       "  <thead>\n",
       "    <tr style=\"text-align: right;\">\n",
       "      <th></th>\n",
       "      <th>Age</th>\n",
       "      <th>RestingBP</th>\n",
       "      <th>Cholesterol</th>\n",
       "      <th>FastingBS</th>\n",
       "      <th>MaxHR</th>\n",
       "      <th>Oldpeak</th>\n",
       "      <th>HeartDisease</th>\n",
       "    </tr>\n",
       "  </thead>\n",
       "  <tbody>\n",
       "    <tr>\n",
       "      <th>count</th>\n",
       "      <td>918.000000</td>\n",
       "      <td>918.000000</td>\n",
       "      <td>918.000000</td>\n",
       "      <td>918.000000</td>\n",
       "      <td>918.000000</td>\n",
       "      <td>918.000000</td>\n",
       "      <td>918.000000</td>\n",
       "    </tr>\n",
       "    <tr>\n",
       "      <th>mean</th>\n",
       "      <td>53.510893</td>\n",
       "      <td>132.396514</td>\n",
       "      <td>198.799564</td>\n",
       "      <td>0.233115</td>\n",
       "      <td>136.809368</td>\n",
       "      <td>0.887364</td>\n",
       "      <td>0.553377</td>\n",
       "    </tr>\n",
       "    <tr>\n",
       "      <th>std</th>\n",
       "      <td>9.432617</td>\n",
       "      <td>18.514154</td>\n",
       "      <td>109.384145</td>\n",
       "      <td>0.423046</td>\n",
       "      <td>25.460334</td>\n",
       "      <td>1.066570</td>\n",
       "      <td>0.497414</td>\n",
       "    </tr>\n",
       "    <tr>\n",
       "      <th>min</th>\n",
       "      <td>28.000000</td>\n",
       "      <td>0.000000</td>\n",
       "      <td>0.000000</td>\n",
       "      <td>0.000000</td>\n",
       "      <td>60.000000</td>\n",
       "      <td>-2.600000</td>\n",
       "      <td>0.000000</td>\n",
       "    </tr>\n",
       "    <tr>\n",
       "      <th>25%</th>\n",
       "      <td>47.000000</td>\n",
       "      <td>120.000000</td>\n",
       "      <td>173.250000</td>\n",
       "      <td>0.000000</td>\n",
       "      <td>120.000000</td>\n",
       "      <td>0.000000</td>\n",
       "      <td>0.000000</td>\n",
       "    </tr>\n",
       "    <tr>\n",
       "      <th>50%</th>\n",
       "      <td>54.000000</td>\n",
       "      <td>130.000000</td>\n",
       "      <td>223.000000</td>\n",
       "      <td>0.000000</td>\n",
       "      <td>138.000000</td>\n",
       "      <td>0.600000</td>\n",
       "      <td>1.000000</td>\n",
       "    </tr>\n",
       "    <tr>\n",
       "      <th>75%</th>\n",
       "      <td>60.000000</td>\n",
       "      <td>140.000000</td>\n",
       "      <td>267.000000</td>\n",
       "      <td>0.000000</td>\n",
       "      <td>156.000000</td>\n",
       "      <td>1.500000</td>\n",
       "      <td>1.000000</td>\n",
       "    </tr>\n",
       "    <tr>\n",
       "      <th>max</th>\n",
       "      <td>77.000000</td>\n",
       "      <td>200.000000</td>\n",
       "      <td>603.000000</td>\n",
       "      <td>1.000000</td>\n",
       "      <td>202.000000</td>\n",
       "      <td>6.200000</td>\n",
       "      <td>1.000000</td>\n",
       "    </tr>\n",
       "  </tbody>\n",
       "</table>\n",
       "</div>"
      ],
      "text/plain": [
       "              Age   RestingBP  Cholesterol   FastingBS       MaxHR  \\\n",
       "count  918.000000  918.000000   918.000000  918.000000  918.000000   \n",
       "mean    53.510893  132.396514   198.799564    0.233115  136.809368   \n",
       "std      9.432617   18.514154   109.384145    0.423046   25.460334   \n",
       "min     28.000000    0.000000     0.000000    0.000000   60.000000   \n",
       "25%     47.000000  120.000000   173.250000    0.000000  120.000000   \n",
       "50%     54.000000  130.000000   223.000000    0.000000  138.000000   \n",
       "75%     60.000000  140.000000   267.000000    0.000000  156.000000   \n",
       "max     77.000000  200.000000   603.000000    1.000000  202.000000   \n",
       "\n",
       "          Oldpeak  HeartDisease  \n",
       "count  918.000000    918.000000  \n",
       "mean     0.887364      0.553377  \n",
       "std      1.066570      0.497414  \n",
       "min     -2.600000      0.000000  \n",
       "25%      0.000000      0.000000  \n",
       "50%      0.600000      1.000000  \n",
       "75%      1.500000      1.000000  \n",
       "max      6.200000      1.000000  "
      ]
     },
     "execution_count": 6,
     "metadata": {},
     "output_type": "execute_result"
    }
   ],
   "source": [
    "cv_df.describe()"
   ]
  },
  {
   "cell_type": "code",
   "execution_count": 7,
   "metadata": {},
   "outputs": [
    {
     "data": {
      "text/plain": [
       "Age                 int64\n",
       "Sex                object\n",
       "ChestPainType      object\n",
       "RestingBP           int64\n",
       "Cholesterol         int64\n",
       "FastingBS           int64\n",
       "RestingECG         object\n",
       "MaxHR               int64\n",
       "ExerciseAngina     object\n",
       "Oldpeak           float64\n",
       "ST_Slope           object\n",
       "HeartDisease        int64\n",
       "dtype: object"
      ]
     },
     "execution_count": 7,
     "metadata": {},
     "output_type": "execute_result"
    }
   ],
   "source": [
    "cv_df.dtypes"
   ]
  },
  {
   "cell_type": "code",
   "execution_count": 8,
   "metadata": {},
   "outputs": [
    {
     "data": {
      "text/plain": [
       "Age               0\n",
       "Sex               0\n",
       "ChestPainType     0\n",
       "RestingBP         0\n",
       "Cholesterol       0\n",
       "FastingBS         0\n",
       "RestingECG        0\n",
       "MaxHR             0\n",
       "ExerciseAngina    0\n",
       "Oldpeak           0\n",
       "ST_Slope          0\n",
       "HeartDisease      0\n",
       "dtype: int64"
      ]
     },
     "execution_count": 8,
     "metadata": {},
     "output_type": "execute_result"
    }
   ],
   "source": [
    "# see if there are any missing values\n",
    "cv_df.isnull().sum()"
   ]
  },
  {
   "cell_type": "markdown",
   "metadata": {},
   "source": [
    "Although this dataset is already well made, we should still check each attribute to ensure all the values make sense. We can start this by doing value counts for each attribute."
   ]
  },
  {
   "cell_type": "code",
   "execution_count": 9,
   "metadata": {},
   "outputs": [
    {
     "data": {
      "text/plain": [
       "54    51\n",
       "58    42\n",
       "55    41\n",
       "57    38\n",
       "56    38\n",
       "52    36\n",
       "62    35\n",
       "59    35\n",
       "51    35\n",
       "53    33\n",
       "60    32\n",
       "48    31\n",
       "61    31\n",
       "63    30\n",
       "50    25\n",
       "43    24\n",
       "46    24\n",
       "41    24\n",
       "64    22\n",
       "49    21\n",
       "65    21\n",
       "47    19\n",
       "44    19\n",
       "45    18\n",
       "42    18\n",
       "38    16\n",
       "67    15\n",
       "39    15\n",
       "69    13\n",
       "40    13\n",
       "66    13\n",
       "35    11\n",
       "37    11\n",
       "68    10\n",
       "34     7\n",
       "74     7\n",
       "70     7\n",
       "36     6\n",
       "32     5\n",
       "71     5\n",
       "72     4\n",
       "75     3\n",
       "29     3\n",
       "76     2\n",
       "77     2\n",
       "33     2\n",
       "31     2\n",
       "73     1\n",
       "30     1\n",
       "28     1\n",
       "Name: Age, dtype: int64"
      ]
     },
     "execution_count": 9,
     "metadata": {},
     "output_type": "execute_result"
    }
   ],
   "source": [
    "cv_df['Age'].value_counts()"
   ]
  },
  {
   "cell_type": "markdown",
   "metadata": {},
   "source": [
    "None of the ages are zero or unreasonably high, so this column looks fine."
   ]
  },
  {
   "cell_type": "code",
   "execution_count": 10,
   "metadata": {},
   "outputs": [
    {
     "data": {
      "text/plain": [
       "M    725\n",
       "F    193\n",
       "Name: Sex, dtype: int64"
      ]
     },
     "execution_count": 10,
     "metadata": {},
     "output_type": "execute_result"
    }
   ],
   "source": [
    "cv_df['Sex'].value_counts()"
   ]
  },
  {
   "cell_type": "markdown",
   "metadata": {},
   "source": [
    "There are no missing values. The dataset seems to be skewed pretty heavily towards males, and it would be ideal to have a more even split for better prediction come model training."
   ]
  },
  {
   "cell_type": "code",
   "execution_count": 11,
   "metadata": {},
   "outputs": [
    {
     "data": {
      "text/plain": [
       "ASY    496\n",
       "NAP    203\n",
       "ATA    173\n",
       "TA      46\n",
       "Name: ChestPainType, dtype: int64"
      ]
     },
     "execution_count": 11,
     "metadata": {},
     "output_type": "execute_result"
    }
   ],
   "source": [
    "cv_df['ChestPainType'].value_counts()"
   ]
  },
  {
   "cell_type": "markdown",
   "metadata": {},
   "source": [
    "There are 4 chest pain types and no missing values, as expected. "
   ]
  },
  {
   "cell_type": "code",
   "execution_count": 12,
   "metadata": {},
   "outputs": [
    {
     "data": {
      "text/plain": [
       "120    132\n",
       "130    118\n",
       "140    107\n",
       "110     58\n",
       "150     55\n",
       "160     50\n",
       "125     29\n",
       "135     20\n",
       "115     19\n",
       "145     18\n",
       "128     18\n",
       "132     17\n",
       "138     17\n",
       "100     15\n",
       "112     14\n",
       "170     14\n",
       "136     13\n",
       "124     12\n",
       "180     12\n",
       "122     12\n",
       "134     11\n",
       "142     11\n",
       "118     10\n",
       "105      9\n",
       "144      8\n",
       "155      8\n",
       "108      7\n",
       "126      7\n",
       "152      7\n",
       "95       6\n",
       "133      6\n",
       "139      5\n",
       "137      5\n",
       "146      4\n",
       "158      4\n",
       "200      4\n",
       "131      4\n",
       "154      3\n",
       "106      3\n",
       "178      3\n",
       "141      3\n",
       "102      3\n",
       "104      3\n",
       "172      2\n",
       "156      2\n",
       "148      2\n",
       "94       2\n",
       "165      2\n",
       "114      2\n",
       "143      2\n",
       "116      2\n",
       "123      2\n",
       "190      2\n",
       "185      1\n",
       "174      1\n",
       "192      1\n",
       "92       1\n",
       "80       1\n",
       "164      1\n",
       "96       1\n",
       "98       1\n",
       "101      1\n",
       "113      1\n",
       "117      1\n",
       "127      1\n",
       "129      1\n",
       "0        1\n",
       "Name: RestingBP, dtype: int64"
      ]
     },
     "execution_count": 12,
     "metadata": {},
     "output_type": "execute_result"
    }
   ],
   "source": [
    "cv_df['RestingBP'].value_counts()"
   ]
  },
  {
   "cell_type": "markdown",
   "metadata": {},
   "source": [
    "One of the resting blood pressures is 0, which doesn't make sense, so we will want to drop that column."
   ]
  },
  {
   "cell_type": "code",
   "execution_count": 13,
   "metadata": {},
   "outputs": [
    {
     "data": {
      "text/plain": [
       "(917, 12)"
      ]
     },
     "execution_count": 13,
     "metadata": {},
     "output_type": "execute_result"
    }
   ],
   "source": [
    "# get the index of any row where resting bp is 0\n",
    "noBP = cv_df[cv_df['RestingBP'] == 0].index\n",
    "\n",
    "# create new dataset so we don't alter the initial dataset while we are cleaning it\n",
    "new_cv_df = cv_df\n",
    "new_cv_df.drop(noBP, inplace=True)\n",
    "new_cv_df.shape # first value should be one less than before"
   ]
  },
  {
   "cell_type": "code",
   "execution_count": 14,
   "metadata": {},
   "outputs": [
    {
     "data": {
      "text/plain": [
       "0      171\n",
       "254     11\n",
       "223     10\n",
       "220     10\n",
       "211      9\n",
       "230      9\n",
       "204      9\n",
       "216      9\n",
       "263      8\n",
       "240      8\n",
       "246      8\n",
       "219      8\n",
       "260      8\n",
       "213      7\n",
       "214      7\n",
       "208      7\n",
       "203      7\n",
       "234      7\n",
       "197      7\n",
       "195      7\n",
       "243      7\n",
       "258      7\n",
       "225      7\n",
       "282      7\n",
       "275      7\n",
       "186      6\n",
       "236      6\n",
       "193      6\n",
       "269      6\n",
       "196      6\n",
       "198      6\n",
       "233      6\n",
       "201      6\n",
       "288      6\n",
       "289      6\n",
       "207      6\n",
       "212      6\n",
       "215      6\n",
       "218      6\n",
       "308      6\n",
       "222      6\n",
       "224      6\n",
       "237      6\n",
       "270      6\n",
       "274      6\n",
       "226      6\n",
       "160      6\n",
       "245      6\n",
       "248      6\n",
       "177      6\n",
       "264      6\n",
       "182      5\n",
       "295      5\n",
       "228      5\n",
       "209      5\n",
       "277      5\n",
       "273      5\n",
       "256      5\n",
       "231      5\n",
       "250      5\n",
       "249      5\n",
       "283      5\n",
       "235      5\n",
       "221      5\n",
       "267      5\n",
       "268      5\n",
       "298      5\n",
       "266      4\n",
       "305      4\n",
       "265      4\n",
       "309      4\n",
       "227      4\n",
       "303      4\n",
       "241      4\n",
       "297      4\n",
       "271      4\n",
       "294      4\n",
       "292      4\n",
       "284      4\n",
       "244      4\n",
       "238      4\n",
       "239      4\n",
       "276      4\n",
       "229      4\n",
       "253      4\n",
       "217      4\n",
       "192      4\n",
       "210      4\n",
       "175      4\n",
       "184      4\n",
       "188      4\n",
       "166      4\n",
       "200      4\n",
       "199      3\n",
       "318      3\n",
       "306      3\n",
       "261      3\n",
       "171      3\n",
       "206      3\n",
       "291      3\n",
       "257      3\n",
       "310      3\n",
       "255      3\n",
       "272      3\n",
       "281      3\n",
       "252      3\n",
       "315      3\n",
       "205      3\n",
       "247      3\n",
       "167      3\n",
       "180      3\n",
       "341      3\n",
       "202      3\n",
       "185      3\n",
       "232      3\n",
       "342      3\n",
       "147      2\n",
       "290      2\n",
       "139      2\n",
       "287      2\n",
       "286      2\n",
       "285      2\n",
       "126      2\n",
       "299      2\n",
       "312      2\n",
       "300      2\n",
       "302      2\n",
       "304      2\n",
       "307      2\n",
       "100      2\n",
       "311      2\n",
       "320      2\n",
       "325      2\n",
       "326      2\n",
       "340      2\n",
       "339      2\n",
       "330      2\n",
       "149      2\n",
       "394      2\n",
       "280      2\n",
       "164      2\n",
       "194      2\n",
       "190      2\n",
       "187      2\n",
       "242      2\n",
       "181      2\n",
       "179      2\n",
       "173      2\n",
       "172      2\n",
       "259      2\n",
       "170      2\n",
       "169      2\n",
       "168      2\n",
       "335      2\n",
       "163      2\n",
       "161      2\n",
       "349      1\n",
       "337      1\n",
       "338      1\n",
       "393      1\n",
       "388      1\n",
       "336      1\n",
       "404      1\n",
       "564      1\n",
       "407      1\n",
       "385      1\n",
       "344      1\n",
       "529      1\n",
       "347      1\n",
       "518      1\n",
       "491      1\n",
       "360      1\n",
       "353      1\n",
       "468      1\n",
       "466      1\n",
       "409      1\n",
       "412      1\n",
       "354      1\n",
       "392      1\n",
       "355      1\n",
       "384      1\n",
       "358      1\n",
       "369      1\n",
       "365      1\n",
       "417      1\n",
       "458      1\n",
       "129      1\n",
       "333      1\n",
       "165      1\n",
       "278      1\n",
       "152      1\n",
       "153      1\n",
       "156      1\n",
       "157      1\n",
       "159      1\n",
       "262      1\n",
       "142      1\n",
       "174      1\n",
       "85       1\n",
       "251      1\n",
       "176      1\n",
       "178      1\n",
       "183      1\n",
       "279      1\n",
       "141      1\n",
       "331      1\n",
       "316      1\n",
       "329      1\n",
       "328      1\n",
       "327      1\n",
       "322      1\n",
       "321      1\n",
       "319      1\n",
       "313      1\n",
       "132      1\n",
       "110      1\n",
       "113      1\n",
       "117      1\n",
       "123      1\n",
       "131      1\n",
       "293      1\n",
       "603      1\n",
       "Name: Cholesterol, dtype: int64"
      ]
     },
     "execution_count": 14,
     "metadata": {},
     "output_type": "execute_result"
    }
   ],
   "source": [
    "cv_df['Cholesterol'].value_counts()"
   ]
  },
  {
   "cell_type": "markdown",
   "metadata": {},
   "source": [
    "So 171 data points have a cholesterol of 0, likely meaning it wasn't recorded. That's a sizeable number of data points so dropping them wouldn't be practical. So instead we will replace them with the mean cholesterol from the dataset."
   ]
  },
  {
   "cell_type": "code",
   "execution_count": 15,
   "metadata": {},
   "outputs": [],
   "source": [
    "new_cv_df['Cholesterol'].replace(0, new_cv_df['Cholesterol'].mean(axis=0), inplace=True)"
   ]
  },
  {
   "cell_type": "code",
   "execution_count": 16,
   "metadata": {},
   "outputs": [
    {
     "data": {
      "text/plain": [
       "199.016358    171\n",
       "254.000000     11\n",
       "223.000000     10\n",
       "220.000000     10\n",
       "216.000000      9\n",
       "230.000000      9\n",
       "204.000000      9\n",
       "211.000000      9\n",
       "246.000000      8\n",
       "219.000000      8\n",
       "240.000000      8\n",
       "263.000000      8\n",
       "260.000000      8\n",
       "195.000000      7\n",
       "225.000000      7\n",
       "282.000000      7\n",
       "197.000000      7\n",
       "243.000000      7\n",
       "214.000000      7\n",
       "234.000000      7\n",
       "275.000000      7\n",
       "203.000000      7\n",
       "208.000000      7\n",
       "258.000000      7\n",
       "213.000000      7\n",
       "193.000000      6\n",
       "248.000000      6\n",
       "201.000000      6\n",
       "224.000000      6\n",
       "177.000000      6\n",
       "288.000000      6\n",
       "270.000000      6\n",
       "237.000000      6\n",
       "212.000000      6\n",
       "215.000000      6\n",
       "236.000000      6\n",
       "269.000000      6\n",
       "233.000000      6\n",
       "222.000000      6\n",
       "226.000000      6\n",
       "274.000000      6\n",
       "308.000000      6\n",
       "218.000000      6\n",
       "245.000000      6\n",
       "198.000000      6\n",
       "196.000000      6\n",
       "264.000000      6\n",
       "186.000000      6\n",
       "207.000000      6\n",
       "160.000000      6\n",
       "289.000000      6\n",
       "267.000000      5\n",
       "182.000000      5\n",
       "268.000000      5\n",
       "250.000000      5\n",
       "209.000000      5\n",
       "231.000000      5\n",
       "221.000000      5\n",
       "256.000000      5\n",
       "228.000000      5\n",
       "273.000000      5\n",
       "249.000000      5\n",
       "277.000000      5\n",
       "295.000000      5\n",
       "298.000000      5\n",
       "283.000000      5\n",
       "235.000000      5\n",
       "241.000000      4\n",
       "266.000000      4\n",
       "271.000000      4\n",
       "227.000000      4\n",
       "284.000000      4\n",
       "200.000000      4\n",
       "253.000000      4\n",
       "210.000000      4\n",
       "217.000000      4\n",
       "229.000000      4\n",
       "276.000000      4\n",
       "265.000000      4\n",
       "294.000000      4\n",
       "309.000000      4\n",
       "192.000000      4\n",
       "292.000000      4\n",
       "184.000000      4\n",
       "175.000000      4\n",
       "188.000000      4\n",
       "244.000000      4\n",
       "305.000000      4\n",
       "166.000000      4\n",
       "297.000000      4\n",
       "238.000000      4\n",
       "303.000000      4\n",
       "239.000000      4\n",
       "291.000000      3\n",
       "255.000000      3\n",
       "232.000000      3\n",
       "171.000000      3\n",
       "247.000000      3\n",
       "272.000000      3\n",
       "167.000000      3\n",
       "310.000000      3\n",
       "206.000000      3\n",
       "342.000000      3\n",
       "318.000000      3\n",
       "257.000000      3\n",
       "205.000000      3\n",
       "306.000000      3\n",
       "315.000000      3\n",
       "252.000000      3\n",
       "202.000000      3\n",
       "185.000000      3\n",
       "199.000000      3\n",
       "281.000000      3\n",
       "180.000000      3\n",
       "261.000000      3\n",
       "341.000000      3\n",
       "286.000000      2\n",
       "139.000000      2\n",
       "287.000000      2\n",
       "242.000000      2\n",
       "325.000000      2\n",
       "187.000000      2\n",
       "194.000000      2\n",
       "181.000000      2\n",
       "100.000000      2\n",
       "320.000000      2\n",
       "312.000000      2\n",
       "126.000000      2\n",
       "290.000000      2\n",
       "179.000000      2\n",
       "304.000000      2\n",
       "339.000000      2\n",
       "300.000000      2\n",
       "149.000000      2\n",
       "394.000000      2\n",
       "173.000000      2\n",
       "172.000000      2\n",
       "169.000000      2\n",
       "170.000000      2\n",
       "299.000000      2\n",
       "335.000000      2\n",
       "161.000000      2\n",
       "190.000000      2\n",
       "164.000000      2\n",
       "280.000000      2\n",
       "147.000000      2\n",
       "330.000000      2\n",
       "163.000000      2\n",
       "259.000000      2\n",
       "168.000000      2\n",
       "285.000000      2\n",
       "326.000000      2\n",
       "307.000000      2\n",
       "311.000000      2\n",
       "302.000000      2\n",
       "340.000000      2\n",
       "322.000000      1\n",
       "407.000000      1\n",
       "123.000000      1\n",
       "141.000000      1\n",
       "262.000000      1\n",
       "353.000000      1\n",
       "337.000000      1\n",
       "331.000000      1\n",
       "157.000000      1\n",
       "458.000000      1\n",
       "409.000000      1\n",
       "564.000000      1\n",
       "328.000000      1\n",
       "251.000000      1\n",
       "412.000000      1\n",
       "85.000000       1\n",
       "393.000000      1\n",
       "369.000000      1\n",
       "417.000000      1\n",
       "347.000000      1\n",
       "183.000000      1\n",
       "404.000000      1\n",
       "355.000000      1\n",
       "113.000000      1\n",
       "117.000000      1\n",
       "518.000000      1\n",
       "293.000000      1\n",
       "165.000000      1\n",
       "349.000000      1\n",
       "388.000000      1\n",
       "491.000000      1\n",
       "132.000000      1\n",
       "360.000000      1\n",
       "384.000000      1\n",
       "392.000000      1\n",
       "329.000000      1\n",
       "468.000000      1\n",
       "142.000000      1\n",
       "319.000000      1\n",
       "365.000000      1\n",
       "153.000000      1\n",
       "178.000000      1\n",
       "327.000000      1\n",
       "529.000000      1\n",
       "176.000000      1\n",
       "129.000000      1\n",
       "603.000000      1\n",
       "385.000000      1\n",
       "321.000000      1\n",
       "316.000000      1\n",
       "131.000000      1\n",
       "338.000000      1\n",
       "344.000000      1\n",
       "174.000000      1\n",
       "278.000000      1\n",
       "313.000000      1\n",
       "354.000000      1\n",
       "279.000000      1\n",
       "333.000000      1\n",
       "159.000000      1\n",
       "110.000000      1\n",
       "156.000000      1\n",
       "358.000000      1\n",
       "466.000000      1\n",
       "152.000000      1\n",
       "336.000000      1\n",
       "Name: Cholesterol, dtype: int64"
      ]
     },
     "execution_count": 16,
     "metadata": {},
     "output_type": "execute_result"
    }
   ],
   "source": [
    "new_cv_df['Cholesterol'].value_counts()"
   ]
  },
  {
   "cell_type": "code",
   "execution_count": 17,
   "metadata": {},
   "outputs": [
    {
     "data": {
      "text/plain": [
       "0    703\n",
       "1    214\n",
       "Name: FastingBS, dtype: int64"
      ]
     },
     "execution_count": 17,
     "metadata": {},
     "output_type": "execute_result"
    }
   ],
   "source": [
    "cv_df['FastingBS'].value_counts()"
   ]
  },
  {
   "cell_type": "markdown",
   "metadata": {},
   "source": [
    "Only 0 or 1, as expected. Nothing missing."
   ]
  },
  {
   "cell_type": "code",
   "execution_count": 18,
   "metadata": {},
   "outputs": [
    {
     "data": {
      "text/plain": [
       "Normal    551\n",
       "LVH       188\n",
       "ST        178\n",
       "Name: RestingECG, dtype: int64"
      ]
     },
     "execution_count": 18,
     "metadata": {},
     "output_type": "execute_result"
    }
   ],
   "source": [
    "cv_df['RestingECG'].value_counts()"
   ]
  },
  {
   "cell_type": "markdown",
   "metadata": {},
   "source": [
    "Nothing missing and only 3 values as expected."
   ]
  },
  {
   "cell_type": "code",
   "execution_count": 19,
   "metadata": {},
   "outputs": [
    {
     "data": {
      "text/plain": [
       "150    43\n",
       "140    41\n",
       "120    36\n",
       "130    33\n",
       "160    25\n",
       "110    23\n",
       "125    21\n",
       "122    20\n",
       "170    20\n",
       "115    16\n",
       "135    15\n",
       "128    14\n",
       "138    14\n",
       "142    14\n",
       "100    14\n",
       "145    14\n",
       "112    13\n",
       "155    13\n",
       "144    13\n",
       "162    13\n",
       "126    12\n",
       "154    12\n",
       "118    12\n",
       "105    11\n",
       "152    11\n",
       "132    11\n",
       "148    11\n",
       "165    11\n",
       "175    10\n",
       "180    10\n",
       "172    10\n",
       "156    10\n",
       "163    10\n",
       "143    10\n",
       "116     9\n",
       "124     9\n",
       "98      9\n",
       "168     8\n",
       "127     8\n",
       "158     8\n",
       "108     8\n",
       "161     7\n",
       "174     7\n",
       "99      7\n",
       "137     7\n",
       "131     7\n",
       "157     7\n",
       "96      7\n",
       "173     7\n",
       "123     7\n",
       "149     6\n",
       "139     6\n",
       "146     6\n",
       "169     6\n",
       "141     6\n",
       "136     6\n",
       "134     6\n",
       "179     6\n",
       "92      6\n",
       "117     6\n",
       "114     6\n",
       "178     6\n",
       "182     6\n",
       "133     5\n",
       "106     5\n",
       "151     5\n",
       "147     5\n",
       "159     5\n",
       "166     5\n",
       "109     5\n",
       "111     5\n",
       "113     5\n",
       "119     5\n",
       "121     5\n",
       "153     5\n",
       "171     4\n",
       "164     4\n",
       "185     4\n",
       "86      4\n",
       "184     4\n",
       "129     4\n",
       "94      4\n",
       "102     4\n",
       "103     4\n",
       "90      3\n",
       "97      3\n",
       "84      3\n",
       "82      3\n",
       "188     2\n",
       "176     2\n",
       "190     2\n",
       "181     2\n",
       "72      2\n",
       "93      2\n",
       "167     2\n",
       "88      2\n",
       "186     2\n",
       "80      2\n",
       "95      2\n",
       "104     2\n",
       "187     1\n",
       "192     1\n",
       "194     1\n",
       "195     1\n",
       "60      1\n",
       "177     1\n",
       "63      1\n",
       "107     1\n",
       "91      1\n",
       "87      1\n",
       "83      1\n",
       "78      1\n",
       "77      1\n",
       "73      1\n",
       "71      1\n",
       "70      1\n",
       "69      1\n",
       "67      1\n",
       "202     1\n",
       "Name: MaxHR, dtype: int64"
      ]
     },
     "execution_count": 19,
     "metadata": {},
     "output_type": "execute_result"
    }
   ],
   "source": [
    "cv_df['MaxHR'].value_counts()"
   ]
  },
  {
   "cell_type": "markdown",
   "metadata": {},
   "source": [
    "No heart rates of 0 or anything that looks out of place."
   ]
  },
  {
   "cell_type": "code",
   "execution_count": 20,
   "metadata": {},
   "outputs": [
    {
     "data": {
      "text/plain": [
       "N    546\n",
       "Y    371\n",
       "Name: ExerciseAngina, dtype: int64"
      ]
     },
     "execution_count": 20,
     "metadata": {},
     "output_type": "execute_result"
    }
   ],
   "source": [
    "cv_df['ExerciseAngina'].value_counts()"
   ]
  },
  {
   "cell_type": "markdown",
   "metadata": {},
   "source": [
    "Only yes or no, no missing values."
   ]
  },
  {
   "cell_type": "code",
   "execution_count": 21,
   "metadata": {},
   "outputs": [
    {
     "data": {
      "text/plain": [
       " 0.0    368\n",
       " 1.0     86\n",
       " 2.0     76\n",
       " 1.5     52\n",
       " 3.0     28\n",
       " 1.2     26\n",
       " 0.2     22\n",
       " 0.5     19\n",
       " 1.4     18\n",
       " 1.8     17\n",
       " 2.5     16\n",
       " 0.8     16\n",
       " 1.6     16\n",
       " 0.1     14\n",
       " 0.6     14\n",
       " 0.4     11\n",
       " 0.3     11\n",
       " 4.0      8\n",
       " 0.7      7\n",
       " 2.8      7\n",
       " 1.3      7\n",
       " 2.6      7\n",
       " 1.1      7\n",
       " 1.9      7\n",
       " 1.7      6\n",
       " 2.2      5\n",
       " 0.9      4\n",
       " 3.6      4\n",
       " 2.4      4\n",
       " 3.4      3\n",
       " 2.1      2\n",
       "-0.1      2\n",
       " 4.2      2\n",
       " 3.2      2\n",
       " 3.5      2\n",
       "-0.5      2\n",
       " 2.3      2\n",
       "-1.0      2\n",
       " 2.9      1\n",
       " 3.8      1\n",
       "-0.9      1\n",
       "-2.6      1\n",
       "-1.5      1\n",
       " 3.7      1\n",
       " 5.0      1\n",
       "-2.0      1\n",
       "-0.8      1\n",
       " 3.1      1\n",
       " 4.4      1\n",
       " 5.6      1\n",
       " 6.2      1\n",
       "-0.7      1\n",
       "-1.1      1\n",
       "Name: Oldpeak, dtype: int64"
      ]
     },
     "execution_count": 21,
     "metadata": {},
     "output_type": "execute_result"
    }
   ],
   "source": [
    "cv_df['Oldpeak'].value_counts()"
   ]
  },
  {
   "cell_type": "markdown",
   "metadata": {},
   "source": [
    "No missing values."
   ]
  },
  {
   "cell_type": "code",
   "execution_count": 22,
   "metadata": {},
   "outputs": [
    {
     "data": {
      "text/plain": [
       "Flat    459\n",
       "Up      395\n",
       "Down     63\n",
       "Name: ST_Slope, dtype: int64"
      ]
     },
     "execution_count": 22,
     "metadata": {},
     "output_type": "execute_result"
    }
   ],
   "source": [
    "cv_df['ST_Slope'].value_counts()"
   ]
  },
  {
   "cell_type": "markdown",
   "metadata": {},
   "source": [
    "As expected."
   ]
  },
  {
   "cell_type": "code",
   "execution_count": 23,
   "metadata": {},
   "outputs": [
    {
     "data": {
      "text/plain": [
       "1    507\n",
       "0    410\n",
       "Name: HeartDisease, dtype: int64"
      ]
     },
     "execution_count": 23,
     "metadata": {},
     "output_type": "execute_result"
    }
   ],
   "source": [
    "cv_df['HeartDisease'].value_counts()"
   ]
  },
  {
   "cell_type": "markdown",
   "metadata": {},
   "source": [
    "No missing values, only two categories as expected."
   ]
  },
  {
   "cell_type": "markdown",
   "metadata": {},
   "source": [
    "The dataset seems to be well cleaned at this point. Let's move on to visualizing it."
   ]
  },
  {
   "cell_type": "markdown",
   "metadata": {},
   "source": [
    "# Visualize the data and clean further"
   ]
  },
  {
   "cell_type": "code",
   "execution_count": 24,
   "metadata": {},
   "outputs": [],
   "source": [
    "# rename to original name\n",
    "cv_df = new_cv_df"
   ]
  },
  {
   "cell_type": "code",
   "execution_count": 25,
   "metadata": {},
   "outputs": [
    {
     "data": {
      "image/png": "[encoded data removed]",
      "text/plain": [
       "<Figure size 1800x360 with 1 Axes>"
      ]
     },
     "metadata": {
      "needs_background": "light"
     },
     "output_type": "display_data"
    }
   ],
   "source": [
    "sns.catplot(x='Age', y='RestingBP', data=cv_df, aspect=5) \n",
    "plt.ylabel('Resting Blood Pressure', fontsize=20) \n",
    "plt.xlabel('Age', fontsize=20) \n",
    "plt.title('Age vs Resting BP', fontsize=20)\n",
    "plt.show()"
   ]
  },
  {
   "cell_type": "code",
   "execution_count": null,
   "metadata": {},
   "outputs": [],
   "source": []
  }
 ],
 "metadata": {
  "kernelspec": {
   "display_name": "deep-learning3",
   "language": "python",
   "name": "deep-learning3"
  },
  "language_info": {
   "codemirror_mode": {
    "name": "ipython",
    "version": 3
   },
   "file_extension": ".py",
   "mimetype": "text/x-python",
   "name": "python",
   "nbconvert_exporter": "python",
   "pygments_lexer": "ipython3",
   "version": "3.8.8"
  }
 },
 "nbformat": 4,
 "nbformat_minor": 4
}
