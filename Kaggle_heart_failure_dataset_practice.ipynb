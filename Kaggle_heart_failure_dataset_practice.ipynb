{
 "cells": [
  {
   "cell_type": "markdown",
   "metadata": {},
   "source": [
    "# Kaggle heart failure prediction dataset practice\n",
    "\n",
    "This dataset is an expanded version of the commonly used Cleveland dataset found on the UCI machine learning repository website. [The dataset can be found here.](https://www.kaggle.com/fedesoriano/heart-failure-prediction)\n",
    "\n",
    "Attribute Information:\n",
    "\n",
    "    Age: age of the patient [years]\n",
    "    Sex: sex of the patient [M: Male, F: Female]\n",
    "    ChestPainType: chest pain type [TA: Typical Angina, ATA: Atypical Angina, NAP: Non-Anginal Pain, ASY: Asymptomatic]\n",
    "    RestingBP: resting blood pressure [mm Hg]\n",
    "    Cholesterol: serum cholesterol [mm/dl]\n",
    "    FastingBS: fasting blood sugar [1: if FastingBS > 120 mg/dl, 0: otherwise]\n",
    "    RestingECG: resting electrocardiogram results [Normal: Normal, ST: having ST-T wave abnormality (T wave inversions and/or ST elevation or depression of > 0.05 mV), LVH: showing probable or definite left ventricular hypertrophy by Estes' criteria]\n",
    "    MaxHR: maximum heart rate achieved [Numeric value between 60 and 202]\n",
    "    ExerciseAngina: exercise-induced angina [Y: Yes, N: No]\n",
    "    Oldpeak: oldpeak = ST [Numeric value measured in depression]\n",
    "    ST_Slope: the slope of the peak exercise ST segment [Up: upsloping, Flat: flat, Down: downsloping]\n",
    "    HeartDisease: output class [1: heart disease, 0: Normal]\n"
   ]
  },
  {
   "cell_type": "code",
   "execution_count": null,
   "metadata": {},
   "outputs": [],
   "source": [
    "import pandas as pd\n",
    "import numpy as np\n"
   ]
  }
 ],
 "metadata": {
  "kernelspec": {
   "display_name": "deep-learning3",
   "language": "python",
   "name": "deep-learning3"
  },
  "language_info": {
   "codemirror_mode": {
    "name": "ipython",
    "version": 3
   },
   "file_extension": ".py",
   "mimetype": "text/x-python",
   "name": "python",
   "nbconvert_exporter": "python",
   "pygments_lexer": "ipython3",
   "version": "3.8.8"
  }
 },
 "nbformat": 4,
 "nbformat_minor": 4
}
